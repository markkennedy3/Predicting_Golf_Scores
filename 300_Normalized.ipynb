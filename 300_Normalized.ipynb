{
 "cells": [
  {
   "cell_type": "markdown",
   "metadata": {
    "toc": true
   },
   "source": [
    "<h1>Table of Contents<span class=\"tocSkip\"></span></h1>\n",
    "<div class=\"toc\"><ul class=\"toc-item\"><li><span><a href=\"#Data-Prep\" data-toc-modified-id=\"Data-Prep-1\"><span class=\"toc-item-num\">1&nbsp;&nbsp;</span>Data Prep</a></span></li><li><span><a href=\"#MinMax-Normalisation\" data-toc-modified-id=\"MinMax-Normalisation-2\"><span class=\"toc-item-num\">2&nbsp;&nbsp;</span>MinMax Normalisation</a></span></li><li><span><a href=\"#Dimension-Reduction\" data-toc-modified-id=\"Dimension-Reduction-3\"><span class=\"toc-item-num\">3&nbsp;&nbsp;</span>Dimension Reduction</a></span><ul class=\"toc-item\"><li><span><a href=\"#Principle-Component-Analysis\" data-toc-modified-id=\"Principle-Component-Analysis-3.1\"><span class=\"toc-item-num\">3.1&nbsp;&nbsp;</span>Principle Component Analysis</a></span></li><li><span><a href=\"#TSNE\" data-toc-modified-id=\"TSNE-3.2\"><span class=\"toc-item-num\">3.2&nbsp;&nbsp;</span>TSNE</a></span></li><li><span><a href=\"#Multi-Dimensional-Scaling\" data-toc-modified-id=\"Multi-Dimensional-Scaling-3.3\"><span class=\"toc-item-num\">3.3&nbsp;&nbsp;</span>Multi-Dimensional Scaling</a></span></li></ul></li><li><span><a href=\"#Train-&amp;-Test-sets\" data-toc-modified-id=\"Train-&amp;-Test-sets-4\"><span class=\"toc-item-num\">4&nbsp;&nbsp;</span>Train &amp; Test sets</a></span></li><li><span><a href=\"#ML-Models\" data-toc-modified-id=\"ML-Models-5\"><span class=\"toc-item-num\">5&nbsp;&nbsp;</span>ML Models</a></span><ul class=\"toc-item\"><li><span><a href=\"#Linear-Regression-Model\" data-toc-modified-id=\"Linear-Regression-Model-5.1\"><span class=\"toc-item-num\">5.1&nbsp;&nbsp;</span>Linear Regression Model</a></span><ul class=\"toc-item\"><li><span><a href=\"#Predicted-Top-10-vs-Actual-Top-10\" data-toc-modified-id=\"Predicted-Top-10-vs-Actual-Top-10-5.1.1\"><span class=\"toc-item-num\">5.1.1&nbsp;&nbsp;</span>Predicted Top 10 vs Actual Top 10</a></span></li><li><span><a href=\"#Feature-Importance\" data-toc-modified-id=\"Feature-Importance-5.1.2\"><span class=\"toc-item-num\">5.1.2&nbsp;&nbsp;</span>Feature Importance</a></span></li></ul></li><li><span><a href=\"#Neural-Network\" data-toc-modified-id=\"Neural-Network-5.2\"><span class=\"toc-item-num\">5.2&nbsp;&nbsp;</span>Neural Network</a></span><ul class=\"toc-item\"><li><span><a href=\"#Sigmoid-(logistic)\" data-toc-modified-id=\"Sigmoid-(logistic)-5.2.1\"><span class=\"toc-item-num\">5.2.1&nbsp;&nbsp;</span>Sigmoid (logistic)</a></span></li><li><span><a href=\"#Tanh\" data-toc-modified-id=\"Tanh-5.2.2\"><span class=\"toc-item-num\">5.2.2&nbsp;&nbsp;</span>Tanh</a></span></li><li><span><a href=\"#Relu\" data-toc-modified-id=\"Relu-5.2.3\"><span class=\"toc-item-num\">5.2.3&nbsp;&nbsp;</span>Relu</a></span></li></ul></li></ul></li></ul></div>"
   ]
  },
  {
   "cell_type": "markdown",
   "metadata": {},
   "source": [
    "# Data Prep"
   ]
  },
  {
   "cell_type": "code",
   "execution_count": 1,
   "metadata": {},
   "outputs": [],
   "source": [
    "import os.path\n",
    "import numpy as np\n",
    "import pandas as pd\n",
    "from math import sqrt\n",
    "from sklearn import metrics\n",
    "import matplotlib.pyplot as plt\n",
    "from sklearn import linear_model\n",
    "from sklearn.metrics import mean_squared_error\n",
    "from sklearn.metrics import mean_absolute_error\n",
    "from sklearn.preprocessing import StandardScaler\n",
    "from sklearn.neural_network import MLPRegressor\n",
    "from sklearn.model_selection import train_test_split\n",
    "from sklearn.decomposition import PCA as sklearnPCA \n",
    "from sklearn.manifold import TSNE\n",
    "from sklearn import manifold,decomposition\n",
    "from sklearn import metrics"
   ]
  },
  {
   "cell_type": "code",
   "execution_count": 2,
   "metadata": {},
   "outputs": [],
   "source": [
    "df = pd.read_csv(\"df.csv\",index_col=[0])\n",
    "df2021 = pd.read_csv(\"df2021.csv\",index_col=[0])"
   ]
  },
  {
   "cell_type": "code",
   "execution_count": 3,
   "metadata": {},
   "outputs": [
    {
     "data": {
      "text/html": [
       "<div>\n",
       "<style scoped>\n",
       "    .dataframe tbody tr th:only-of-type {\n",
       "        vertical-align: middle;\n",
       "    }\n",
       "\n",
       "    .dataframe tbody tr th {\n",
       "        vertical-align: top;\n",
       "    }\n",
       "\n",
       "    .dataframe thead th {\n",
       "        text-align: right;\n",
       "    }\n",
       "</style>\n",
       "<table border=\"1\" class=\"dataframe\">\n",
       "  <thead>\n",
       "    <tr style=\"text-align: right;\">\n",
       "      <th></th>\n",
       "      <th>player</th>\n",
       "      <th>avg_driv_dist</th>\n",
       "      <th>driv_acc%</th>\n",
       "      <th>gir%</th>\n",
       "      <th>scrambling%</th>\n",
       "      <th>sandsaves</th>\n",
       "      <th>putting_avg</th>\n",
       "      <th>score</th>\n",
       "      <th>year</th>\n",
       "    </tr>\n",
       "  </thead>\n",
       "  <tbody>\n",
       "    <tr>\n",
       "      <th>0</th>\n",
       "      <td>Tony Finau</td>\n",
       "      <td>316.3</td>\n",
       "      <td>67.86</td>\n",
       "      <td>66.67</td>\n",
       "      <td>79.17</td>\n",
       "      <td>63.64</td>\n",
       "      <td>1.771</td>\n",
       "      <td>-11</td>\n",
       "      <td>2019</td>\n",
       "    </tr>\n",
       "    <tr>\n",
       "      <th>1</th>\n",
       "      <td>Rory McIlroy</td>\n",
       "      <td>314.4</td>\n",
       "      <td>58.93</td>\n",
       "      <td>62.50</td>\n",
       "      <td>40.74</td>\n",
       "      <td>25.00</td>\n",
       "      <td>1.689</td>\n",
       "      <td>-5</td>\n",
       "      <td>2019</td>\n",
       "    </tr>\n",
       "    <tr>\n",
       "      <th>2</th>\n",
       "      <td>Gary Woodland</td>\n",
       "      <td>313.6</td>\n",
       "      <td>55.36</td>\n",
       "      <td>62.50</td>\n",
       "      <td>51.85</td>\n",
       "      <td>20.00</td>\n",
       "      <td>1.822</td>\n",
       "      <td>-3</td>\n",
       "      <td>2019</td>\n",
       "    </tr>\n",
       "    <tr>\n",
       "      <th>3</th>\n",
       "      <td>Brooks Koepka</td>\n",
       "      <td>313.6</td>\n",
       "      <td>69.64</td>\n",
       "      <td>73.61</td>\n",
       "      <td>68.42</td>\n",
       "      <td>100.00</td>\n",
       "      <td>1.792</td>\n",
       "      <td>-12</td>\n",
       "      <td>2019</td>\n",
       "    </tr>\n",
       "    <tr>\n",
       "      <th>4</th>\n",
       "      <td>Justin Thomas</td>\n",
       "      <td>312.3</td>\n",
       "      <td>73.21</td>\n",
       "      <td>76.39</td>\n",
       "      <td>70.59</td>\n",
       "      <td>50.00</td>\n",
       "      <td>1.818</td>\n",
       "      <td>-8</td>\n",
       "      <td>2019</td>\n",
       "    </tr>\n",
       "  </tbody>\n",
       "</table>\n",
       "</div>"
      ],
      "text/plain": [
       "          player  avg_driv_dist  driv_acc%   gir%  scrambling%  sandsaves  \\\n",
       "0     Tony Finau          316.3      67.86  66.67        79.17      63.64   \n",
       "1   Rory McIlroy          314.4      58.93  62.50        40.74      25.00   \n",
       "2  Gary Woodland          313.6      55.36  62.50        51.85      20.00   \n",
       "3  Brooks Koepka          313.6      69.64  73.61        68.42     100.00   \n",
       "4  Justin Thomas          312.3      73.21  76.39        70.59      50.00   \n",
       "\n",
       "   putting_avg  score  year  \n",
       "0        1.771    -11  2019  \n",
       "1        1.689     -5  2019  \n",
       "2        1.822     -3  2019  \n",
       "3        1.792    -12  2019  \n",
       "4        1.818     -8  2019  "
      ]
     },
     "execution_count": 3,
     "metadata": {},
     "output_type": "execute_result"
    }
   ],
   "source": [
    "df.head()"
   ]
  },
  {
   "cell_type": "code",
   "execution_count": 4,
   "metadata": {},
   "outputs": [
    {
     "data": {
      "text/html": [
       "<div>\n",
       "<style scoped>\n",
       "    .dataframe tbody tr th:only-of-type {\n",
       "        vertical-align: middle;\n",
       "    }\n",
       "\n",
       "    .dataframe tbody tr th {\n",
       "        vertical-align: top;\n",
       "    }\n",
       "\n",
       "    .dataframe thead th {\n",
       "        text-align: right;\n",
       "    }\n",
       "</style>\n",
       "<table border=\"1\" class=\"dataframe\">\n",
       "  <thead>\n",
       "    <tr style=\"text-align: right;\">\n",
       "      <th></th>\n",
       "      <th>player</th>\n",
       "      <th>avg_driv_dist</th>\n",
       "      <th>driv_acc%</th>\n",
       "      <th>gir%</th>\n",
       "      <th>scrambling%</th>\n",
       "      <th>sandsaves</th>\n",
       "      <th>putting_avg</th>\n",
       "      <th>score</th>\n",
       "      <th>year</th>\n",
       "    </tr>\n",
       "  </thead>\n",
       "  <tbody>\n",
       "    <tr>\n",
       "      <th>0</th>\n",
       "      <td>Cameron Champ</td>\n",
       "      <td>324.4</td>\n",
       "      <td>71.43</td>\n",
       "      <td>62.50</td>\n",
       "      <td>48.15</td>\n",
       "      <td>20.0</td>\n",
       "      <td>1.822</td>\n",
       "      <td>1</td>\n",
       "      <td>2021</td>\n",
       "    </tr>\n",
       "    <tr>\n",
       "      <th>1</th>\n",
       "      <td>Bryson DeChambeau</td>\n",
       "      <td>323.6</td>\n",
       "      <td>55.36</td>\n",
       "      <td>61.11</td>\n",
       "      <td>53.57</td>\n",
       "      <td>20.0</td>\n",
       "      <td>1.841</td>\n",
       "      <td>5</td>\n",
       "      <td>2021</td>\n",
       "    </tr>\n",
       "    <tr>\n",
       "      <th>2</th>\n",
       "      <td>Gary Woodland</td>\n",
       "      <td>316.5</td>\n",
       "      <td>58.93</td>\n",
       "      <td>61.11</td>\n",
       "      <td>46.43</td>\n",
       "      <td>0.0</td>\n",
       "      <td>1.773</td>\n",
       "      <td>4</td>\n",
       "      <td>2021</td>\n",
       "    </tr>\n",
       "    <tr>\n",
       "      <th>3</th>\n",
       "      <td>Jon Rahm</td>\n",
       "      <td>315.6</td>\n",
       "      <td>75.00</td>\n",
       "      <td>69.44</td>\n",
       "      <td>68.18</td>\n",
       "      <td>75.0</td>\n",
       "      <td>1.840</td>\n",
       "      <td>-6</td>\n",
       "      <td>2021</td>\n",
       "    </tr>\n",
       "    <tr>\n",
       "      <th>4</th>\n",
       "      <td>Joaquin Niemann</td>\n",
       "      <td>315.1</td>\n",
       "      <td>58.93</td>\n",
       "      <td>66.67</td>\n",
       "      <td>54.17</td>\n",
       "      <td>100.0</td>\n",
       "      <td>1.854</td>\n",
       "      <td>4</td>\n",
       "      <td>2021</td>\n",
       "    </tr>\n",
       "  </tbody>\n",
       "</table>\n",
       "</div>"
      ],
      "text/plain": [
       "              player  avg_driv_dist  driv_acc%   gir%  scrambling%  sandsaves  \\\n",
       "0      Cameron Champ          324.4      71.43  62.50        48.15       20.0   \n",
       "1  Bryson DeChambeau          323.6      55.36  61.11        53.57       20.0   \n",
       "2      Gary Woodland          316.5      58.93  61.11        46.43        0.0   \n",
       "3           Jon Rahm          315.6      75.00  69.44        68.18       75.0   \n",
       "4    Joaquin Niemann          315.1      58.93  66.67        54.17      100.0   \n",
       "\n",
       "   putting_avg  score  year  \n",
       "0        1.822      1  2021  \n",
       "1        1.841      5  2021  \n",
       "2        1.773      4  2021  \n",
       "3        1.840     -6  2021  \n",
       "4        1.854      4  2021  "
      ]
     },
     "execution_count": 4,
     "metadata": {},
     "output_type": "execute_result"
    }
   ],
   "source": [
    "df2021.head()"
   ]
  },
  {
   "cell_type": "markdown",
   "metadata": {},
   "source": [
    "# MinMax Normalisation"
   ]
  },
  {
   "cell_type": "code",
   "execution_count": 5,
   "metadata": {},
   "outputs": [
    {
     "data": {
      "text/html": [
       "<div>\n",
       "<style scoped>\n",
       "    .dataframe tbody tr th:only-of-type {\n",
       "        vertical-align: middle;\n",
       "    }\n",
       "\n",
       "    .dataframe tbody tr th {\n",
       "        vertical-align: top;\n",
       "    }\n",
       "\n",
       "    .dataframe thead th {\n",
       "        text-align: right;\n",
       "    }\n",
       "</style>\n",
       "<table border=\"1\" class=\"dataframe\">\n",
       "  <thead>\n",
       "    <tr style=\"text-align: right;\">\n",
       "      <th></th>\n",
       "      <th>year</th>\n",
       "      <th>avg_driv_dist</th>\n",
       "      <th>driv_acc</th>\n",
       "      <th>gir</th>\n",
       "      <th>scrambling</th>\n",
       "      <th>sandsaves</th>\n",
       "      <th>putting_avg</th>\n",
       "    </tr>\n",
       "  </thead>\n",
       "  <tbody>\n",
       "    <tr>\n",
       "      <th>0</th>\n",
       "      <td>2019</td>\n",
       "      <td>316.3</td>\n",
       "      <td>67.86</td>\n",
       "      <td>66.67</td>\n",
       "      <td>79.17</td>\n",
       "      <td>63.64</td>\n",
       "      <td>1.771</td>\n",
       "    </tr>\n",
       "    <tr>\n",
       "      <th>1</th>\n",
       "      <td>2019</td>\n",
       "      <td>314.4</td>\n",
       "      <td>58.93</td>\n",
       "      <td>62.50</td>\n",
       "      <td>40.74</td>\n",
       "      <td>25.00</td>\n",
       "      <td>1.689</td>\n",
       "    </tr>\n",
       "    <tr>\n",
       "      <th>2</th>\n",
       "      <td>2019</td>\n",
       "      <td>313.6</td>\n",
       "      <td>55.36</td>\n",
       "      <td>62.50</td>\n",
       "      <td>51.85</td>\n",
       "      <td>20.00</td>\n",
       "      <td>1.822</td>\n",
       "    </tr>\n",
       "    <tr>\n",
       "      <th>3</th>\n",
       "      <td>2019</td>\n",
       "      <td>313.6</td>\n",
       "      <td>69.64</td>\n",
       "      <td>73.61</td>\n",
       "      <td>68.42</td>\n",
       "      <td>100.00</td>\n",
       "      <td>1.792</td>\n",
       "    </tr>\n",
       "    <tr>\n",
       "      <th>4</th>\n",
       "      <td>2019</td>\n",
       "      <td>312.3</td>\n",
       "      <td>73.21</td>\n",
       "      <td>76.39</td>\n",
       "      <td>70.59</td>\n",
       "      <td>50.00</td>\n",
       "      <td>1.818</td>\n",
       "    </tr>\n",
       "  </tbody>\n",
       "</table>\n",
       "</div>"
      ],
      "text/plain": [
       "   year  avg_driv_dist  driv_acc    gir  scrambling  sandsaves  putting_avg\n",
       "0  2019          316.3     67.86  66.67       79.17      63.64        1.771\n",
       "1  2019          314.4     58.93  62.50       40.74      25.00        1.689\n",
       "2  2019          313.6     55.36  62.50       51.85      20.00        1.822\n",
       "3  2019          313.6     69.64  73.61       68.42     100.00        1.792\n",
       "4  2019          312.3     73.21  76.39       70.59      50.00        1.818"
      ]
     },
     "execution_count": 5,
     "metadata": {},
     "output_type": "execute_result"
    }
   ],
   "source": [
    "norm_df = df[['year','avg_driv_dist', 'driv_acc%', 'gir%', 'scrambling%','sandsaves', 'putting_avg']]\n",
    "norm_df = norm_df.rename(columns = {'driv_acc%': 'driv_acc'}, inplace = False)\n",
    "norm_df = norm_df.rename(columns = {'gir%': 'gir'}, inplace = False)\n",
    "norm_df = norm_df.rename(columns = {'scrambling%': 'scrambling'}, inplace = False)\n",
    "norm_df.head()"
   ]
  },
  {
   "cell_type": "code",
   "execution_count": 6,
   "metadata": {},
   "outputs": [
    {
     "data": {
      "text/html": [
       "<div>\n",
       "<style scoped>\n",
       "    .dataframe tbody tr th:only-of-type {\n",
       "        vertical-align: middle;\n",
       "    }\n",
       "\n",
       "    .dataframe tbody tr th {\n",
       "        vertical-align: top;\n",
       "    }\n",
       "\n",
       "    .dataframe thead th {\n",
       "        text-align: right;\n",
       "    }\n",
       "</style>\n",
       "<table border=\"1\" class=\"dataframe\">\n",
       "  <thead>\n",
       "    <tr style=\"text-align: right;\">\n",
       "      <th></th>\n",
       "      <th>year</th>\n",
       "      <th>avg_driv_dist</th>\n",
       "      <th>driv_acc</th>\n",
       "      <th>gir</th>\n",
       "      <th>scrambling</th>\n",
       "      <th>sandsaves</th>\n",
       "      <th>putting_avg</th>\n",
       "    </tr>\n",
       "  </thead>\n",
       "  <tbody>\n",
       "    <tr>\n",
       "      <th>0</th>\n",
       "      <td>2019</td>\n",
       "      <td>1.000000</td>\n",
       "      <td>0.500140</td>\n",
       "      <td>0.4444</td>\n",
       "      <td>0.904677</td>\n",
       "      <td>0.6364</td>\n",
       "      <td>0.374372</td>\n",
       "    </tr>\n",
       "    <tr>\n",
       "      <th>1</th>\n",
       "      <td>2019</td>\n",
       "      <td>0.956522</td>\n",
       "      <td>0.250070</td>\n",
       "      <td>0.2776</td>\n",
       "      <td>0.146240</td>\n",
       "      <td>0.2500</td>\n",
       "      <td>0.168342</td>\n",
       "    </tr>\n",
       "    <tr>\n",
       "      <th>2</th>\n",
       "      <td>2019</td>\n",
       "      <td>0.938215</td>\n",
       "      <td>0.150098</td>\n",
       "      <td>0.2776</td>\n",
       "      <td>0.365502</td>\n",
       "      <td>0.2000</td>\n",
       "      <td>0.502513</td>\n",
       "    </tr>\n",
       "    <tr>\n",
       "      <th>3</th>\n",
       "      <td>2019</td>\n",
       "      <td>0.938215</td>\n",
       "      <td>0.549986</td>\n",
       "      <td>0.7220</td>\n",
       "      <td>0.692520</td>\n",
       "      <td>1.0000</td>\n",
       "      <td>0.427136</td>\n",
       "    </tr>\n",
       "    <tr>\n",
       "      <th>4</th>\n",
       "      <td>2019</td>\n",
       "      <td>0.908467</td>\n",
       "      <td>0.649958</td>\n",
       "      <td>0.8332</td>\n",
       "      <td>0.735346</td>\n",
       "      <td>0.5000</td>\n",
       "      <td>0.492462</td>\n",
       "    </tr>\n",
       "  </tbody>\n",
       "</table>\n",
       "</div>"
      ],
      "text/plain": [
       "   year  avg_driv_dist  driv_acc     gir  scrambling  sandsaves  putting_avg\n",
       "0  2019       1.000000  0.500140  0.4444    0.904677     0.6364     0.374372\n",
       "1  2019       0.956522  0.250070  0.2776    0.146240     0.2500     0.168342\n",
       "2  2019       0.938215  0.150098  0.2776    0.365502     0.2000     0.502513\n",
       "3  2019       0.938215  0.549986  0.7220    0.692520     1.0000     0.427136\n",
       "4  2019       0.908467  0.649958  0.8332    0.735346     0.5000     0.492462"
      ]
     },
     "execution_count": 6,
     "metadata": {},
     "output_type": "execute_result"
    }
   ],
   "source": [
    "norm_df = norm_df.assign(avg_driv_dist=norm_df.groupby('year')['avg_driv_dist'].transform(lambda x: (x - x.min()) / (x.max()- x.min())))\n",
    "norm_df = norm_df.assign(driv_acc=norm_df.groupby('year')['driv_acc'].transform(lambda x: (x - x.min()) / (x.max()- x.min())))\n",
    "norm_df = norm_df.assign(gir=norm_df.groupby('year')['gir'].transform(lambda x: (x - x.min()) / (x.max()- x.min())))\n",
    "norm_df = norm_df.assign(scrambling=norm_df.groupby('year')['scrambling'].transform(lambda x: (x - x.min()) / (x.max()- x.min())))\n",
    "norm_df = norm_df.assign(sandsaves=norm_df.groupby('year')['sandsaves'].transform(lambda x: (x - x.min()) / (x.max()- x.min())))\n",
    "norm_df = norm_df.assign(putting_avg=norm_df.groupby('year')['putting_avg'].transform(lambda x: (x - x.min()) / (x.max()- x.min())))\n",
    "norm_df.head()"
   ]
  },
  {
   "cell_type": "code",
   "execution_count": 7,
   "metadata": {},
   "outputs": [
    {
     "data": {
      "text/html": [
       "<div>\n",
       "<style scoped>\n",
       "    .dataframe tbody tr th:only-of-type {\n",
       "        vertical-align: middle;\n",
       "    }\n",
       "\n",
       "    .dataframe tbody tr th {\n",
       "        vertical-align: top;\n",
       "    }\n",
       "\n",
       "    .dataframe thead th {\n",
       "        text-align: right;\n",
       "    }\n",
       "</style>\n",
       "<table border=\"1\" class=\"dataframe\">\n",
       "  <thead>\n",
       "    <tr style=\"text-align: right;\">\n",
       "      <th></th>\n",
       "      <th>year</th>\n",
       "      <th>avg_driv_dist</th>\n",
       "      <th>driv_acc</th>\n",
       "      <th>gir</th>\n",
       "      <th>scrambling</th>\n",
       "      <th>sandsaves</th>\n",
       "      <th>putting_avg</th>\n",
       "      <th>score</th>\n",
       "    </tr>\n",
       "  </thead>\n",
       "  <tbody>\n",
       "    <tr>\n",
       "      <th>0</th>\n",
       "      <td>2021</td>\n",
       "      <td>324.4</td>\n",
       "      <td>71.43</td>\n",
       "      <td>62.50</td>\n",
       "      <td>48.15</td>\n",
       "      <td>20.0</td>\n",
       "      <td>1.822</td>\n",
       "      <td>1</td>\n",
       "    </tr>\n",
       "    <tr>\n",
       "      <th>1</th>\n",
       "      <td>2021</td>\n",
       "      <td>323.6</td>\n",
       "      <td>55.36</td>\n",
       "      <td>61.11</td>\n",
       "      <td>53.57</td>\n",
       "      <td>20.0</td>\n",
       "      <td>1.841</td>\n",
       "      <td>5</td>\n",
       "    </tr>\n",
       "    <tr>\n",
       "      <th>2</th>\n",
       "      <td>2021</td>\n",
       "      <td>316.5</td>\n",
       "      <td>58.93</td>\n",
       "      <td>61.11</td>\n",
       "      <td>46.43</td>\n",
       "      <td>0.0</td>\n",
       "      <td>1.773</td>\n",
       "      <td>4</td>\n",
       "    </tr>\n",
       "    <tr>\n",
       "      <th>3</th>\n",
       "      <td>2021</td>\n",
       "      <td>315.6</td>\n",
       "      <td>75.00</td>\n",
       "      <td>69.44</td>\n",
       "      <td>68.18</td>\n",
       "      <td>75.0</td>\n",
       "      <td>1.840</td>\n",
       "      <td>-6</td>\n",
       "    </tr>\n",
       "    <tr>\n",
       "      <th>4</th>\n",
       "      <td>2021</td>\n",
       "      <td>315.1</td>\n",
       "      <td>58.93</td>\n",
       "      <td>66.67</td>\n",
       "      <td>54.17</td>\n",
       "      <td>100.0</td>\n",
       "      <td>1.854</td>\n",
       "      <td>4</td>\n",
       "    </tr>\n",
       "  </tbody>\n",
       "</table>\n",
       "</div>"
      ],
      "text/plain": [
       "   year  avg_driv_dist  driv_acc    gir  scrambling  sandsaves  putting_avg  \\\n",
       "0  2021          324.4     71.43  62.50       48.15       20.0        1.822   \n",
       "1  2021          323.6     55.36  61.11       53.57       20.0        1.841   \n",
       "2  2021          316.5     58.93  61.11       46.43        0.0        1.773   \n",
       "3  2021          315.6     75.00  69.44       68.18       75.0        1.840   \n",
       "4  2021          315.1     58.93  66.67       54.17      100.0        1.854   \n",
       "\n",
       "   score  \n",
       "0      1  \n",
       "1      5  \n",
       "2      4  \n",
       "3     -6  \n",
       "4      4  "
      ]
     },
     "execution_count": 7,
     "metadata": {},
     "output_type": "execute_result"
    }
   ],
   "source": [
    "norm_df2021 = df2021[['year','avg_driv_dist', 'driv_acc%', 'gir%', 'scrambling%','sandsaves', 'putting_avg','score']]\n",
    "norm_df2021 = norm_df2021.rename(columns = {'driv_acc%': 'driv_acc'}, inplace = False)\n",
    "norm_df2021 = norm_df2021.rename(columns = {'gir%': 'gir'}, inplace = False)\n",
    "norm_df2021 = norm_df2021.rename(columns = {'scrambling%': 'scrambling'}, inplace = False)\n",
    "norm_df2021.head()"
   ]
  },
  {
   "cell_type": "code",
   "execution_count": 8,
   "metadata": {},
   "outputs": [
    {
     "data": {
      "text/html": [
       "<div>\n",
       "<style scoped>\n",
       "    .dataframe tbody tr th:only-of-type {\n",
       "        vertical-align: middle;\n",
       "    }\n",
       "\n",
       "    .dataframe tbody tr th {\n",
       "        vertical-align: top;\n",
       "    }\n",
       "\n",
       "    .dataframe thead th {\n",
       "        text-align: right;\n",
       "    }\n",
       "</style>\n",
       "<table border=\"1\" class=\"dataframe\">\n",
       "  <thead>\n",
       "    <tr style=\"text-align: right;\">\n",
       "      <th></th>\n",
       "      <th>year</th>\n",
       "      <th>avg_driv_dist</th>\n",
       "      <th>driv_acc</th>\n",
       "      <th>gir</th>\n",
       "      <th>scrambling</th>\n",
       "      <th>sandsaves</th>\n",
       "      <th>putting_avg</th>\n",
       "      <th>score</th>\n",
       "    </tr>\n",
       "  </thead>\n",
       "  <tbody>\n",
       "    <tr>\n",
       "      <th>0</th>\n",
       "      <td>2021</td>\n",
       "      <td>1.000000</td>\n",
       "      <td>0.549986</td>\n",
       "      <td>0.476174</td>\n",
       "      <td>0.299058</td>\n",
       "      <td>0.20</td>\n",
       "      <td>0.714286</td>\n",
       "      <td>1</td>\n",
       "    </tr>\n",
       "    <tr>\n",
       "      <th>1</th>\n",
       "      <td>2021</td>\n",
       "      <td>0.983087</td>\n",
       "      <td>0.099972</td>\n",
       "      <td>0.428522</td>\n",
       "      <td>0.444953</td>\n",
       "      <td>0.20</td>\n",
       "      <td>0.785714</td>\n",
       "      <td>5</td>\n",
       "    </tr>\n",
       "    <tr>\n",
       "      <th>2</th>\n",
       "      <td>2021</td>\n",
       "      <td>0.832981</td>\n",
       "      <td>0.199944</td>\n",
       "      <td>0.428522</td>\n",
       "      <td>0.252759</td>\n",
       "      <td>0.00</td>\n",
       "      <td>0.530075</td>\n",
       "      <td>4</td>\n",
       "    </tr>\n",
       "    <tr>\n",
       "      <th>3</th>\n",
       "      <td>2021</td>\n",
       "      <td>0.813953</td>\n",
       "      <td>0.649958</td>\n",
       "      <td>0.714090</td>\n",
       "      <td>0.838223</td>\n",
       "      <td>0.75</td>\n",
       "      <td>0.781955</td>\n",
       "      <td>-6</td>\n",
       "    </tr>\n",
       "    <tr>\n",
       "      <th>4</th>\n",
       "      <td>2021</td>\n",
       "      <td>0.803383</td>\n",
       "      <td>0.199944</td>\n",
       "      <td>0.619129</td>\n",
       "      <td>0.461104</td>\n",
       "      <td>1.00</td>\n",
       "      <td>0.834586</td>\n",
       "      <td>4</td>\n",
       "    </tr>\n",
       "  </tbody>\n",
       "</table>\n",
       "</div>"
      ],
      "text/plain": [
       "   year  avg_driv_dist  driv_acc       gir  scrambling  sandsaves  \\\n",
       "0  2021       1.000000  0.549986  0.476174    0.299058       0.20   \n",
       "1  2021       0.983087  0.099972  0.428522    0.444953       0.20   \n",
       "2  2021       0.832981  0.199944  0.428522    0.252759       0.00   \n",
       "3  2021       0.813953  0.649958  0.714090    0.838223       0.75   \n",
       "4  2021       0.803383  0.199944  0.619129    0.461104       1.00   \n",
       "\n",
       "   putting_avg  score  \n",
       "0     0.714286      1  \n",
       "1     0.785714      5  \n",
       "2     0.530075      4  \n",
       "3     0.781955     -6  \n",
       "4     0.834586      4  "
      ]
     },
     "execution_count": 8,
     "metadata": {},
     "output_type": "execute_result"
    }
   ],
   "source": [
    "norm_df2021 = norm_df2021.assign(avg_driv_dist=norm_df2021.groupby('year')['avg_driv_dist'].transform(lambda x: (x - x.min()) / (x.max()- x.min())))\n",
    "norm_df2021 = norm_df2021.assign(driv_acc=norm_df2021.groupby('year')['driv_acc'].transform(lambda x: (x - x.min()) / (x.max()- x.min())))\n",
    "norm_df2021 = norm_df2021.assign(gir=norm_df2021.groupby('year')['gir'].transform(lambda x: (x - x.min()) / (x.max()- x.min())))\n",
    "norm_df2021 = norm_df2021.assign(scrambling=norm_df2021.groupby('year')['scrambling'].transform(lambda x: (x - x.min()) / (x.max()- x.min())))\n",
    "norm_df2021 = norm_df2021.assign(sandsaves=norm_df2021.groupby('year')['sandsaves'].transform(lambda x: (x - x.min()) / (x.max()- x.min())))\n",
    "norm_df2021 = norm_df2021.assign(putting_avg=norm_df2021.groupby('year')['putting_avg'].transform(lambda x: (x - x.min()) / (x.max()- x.min())))\n",
    "norm_df2021.head()"
   ]
  },
  {
   "cell_type": "markdown",
   "metadata": {},
   "source": [
    "# Dimension Reduction"
   ]
  },
  {
   "cell_type": "code",
   "execution_count": 9,
   "metadata": {},
   "outputs": [],
   "source": [
    "min_indexes = df.loc[df.groupby('year')['score'].idxmin()].index\n",
    "max_indexes = df.loc[df.groupby('year')['score'].idxmax()].index"
   ]
  },
  {
   "cell_type": "markdown",
   "metadata": {},
   "source": [
    "## Principle Component Analysis"
   ]
  },
  {
   "cell_type": "code",
   "execution_count": 10,
   "metadata": {},
   "outputs": [
    {
     "data": {
      "text/plain": [
       "array([[-0.0378054 ,  0.47934577],\n",
       "       [-0.68705553, -0.11657595],\n",
       "       [-0.59666734, -0.01486754],\n",
       "       ...,\n",
       "       [ 0.38092745, -0.26292084],\n",
       "       [ 0.57115791, -0.12795343],\n",
       "       [ 0.29063186, -0.38927446]])"
      ]
     },
     "execution_count": 10,
     "metadata": {},
     "output_type": "execute_result"
    }
   ],
   "source": [
    "norm_df = norm_df[['avg_driv_dist', 'driv_acc', 'gir', 'scrambling','sandsaves', 'putting_avg']]\n",
    "sklearn_pca = sklearnPCA(n_components=2)\n",
    "Y_sklearn = sklearn_pca.fit_transform(norm_df)\n",
    "Y_sklearn"
   ]
  },
  {
   "cell_type": "code",
   "execution_count": 11,
   "metadata": {},
   "outputs": [],
   "source": [
    "winnersco = [] \n",
    "\n",
    "for i in max_indexes:\n",
    "    winnersco.append(Y_sklearn[i])"
   ]
  },
  {
   "cell_type": "code",
   "execution_count": 12,
   "metadata": {},
   "outputs": [
    {
     "data": {
      "text/plain": [
       "[array([0.51048403, 0.01474028]),\n",
       " array([ 0.27041227, -0.48189184]),\n",
       " array([-0.13138638, -0.62846886]),\n",
       " array([ 0.47729313, -0.4489067 ]),\n",
       " array([-0.61483173, -0.34537894]),\n",
       " array([-0.39649516, -0.0920107 ]),\n",
       " array([ 0.06913359, -0.52788902]),\n",
       " array([-0.0088564 , -0.31190215]),\n",
       " array([ 0.02498429, -0.40226024]),\n",
       " array([-0.47387422, -0.21193962]),\n",
       " array([ 0.67786652, -0.43184654]),\n",
       " array([-0.32642289, -0.42150555]),\n",
       " array([ 0.07194474, -0.22512402]),\n",
       " array([-0.43355525, -0.37350361]),\n",
       " array([ 0.36132807, -0.34668685]),\n",
       " array([-0.01083618, -0.01510913])]"
      ]
     },
     "execution_count": 12,
     "metadata": {},
     "output_type": "execute_result"
    }
   ],
   "source": [
    "winnersco"
   ]
  },
  {
   "cell_type": "code",
   "execution_count": 13,
   "metadata": {},
   "outputs": [],
   "source": [
    "worstco = [] \n",
    "\n",
    "for i in min_indexes:\n",
    "    worstco.append(Y_sklearn[i])"
   ]
  },
  {
   "cell_type": "code",
   "execution_count": 14,
   "metadata": {},
   "outputs": [
    {
     "data": {
      "text/plain": [
       "[array([0.2360196 , 0.08368517]),\n",
       " array([0.098608  , 0.43709622]),\n",
       " array([-0.59203956,  0.4628998 ]),\n",
       " array([-0.49748414,  0.37009552]),\n",
       " array([0.38199796, 0.56363384]),\n",
       " array([0.5223383 , 0.56180939]),\n",
       " array([-0.43433752,  0.38954058]),\n",
       " array([0.18036184, 0.04181817]),\n",
       " array([-0.02313366,  0.35219335]),\n",
       " array([-0.29815172,  0.33901706]),\n",
       " array([-0.28338685,  0.39729908]),\n",
       " array([0.03213525, 0.03492474]),\n",
       " array([-0.10495882,  0.19441716]),\n",
       " array([0.35633793, 0.57266144]),\n",
       " array([-0.09502812,  0.12206918]),\n",
       " array([-0.18126646,  0.27868461])]"
      ]
     },
     "execution_count": 14,
     "metadata": {},
     "output_type": "execute_result"
    }
   ],
   "source": [
    "worstco"
   ]
  },
  {
   "cell_type": "code",
   "execution_count": 15,
   "metadata": {},
   "outputs": [],
   "source": [
    "xco, yco = zip(*Y_sklearn)\n",
    "worstxco, worstyco = zip(*worstco)\n",
    "winnersxco, winnersyco = zip(*winnersco)"
   ]
  },
  {
   "cell_type": "code",
   "execution_count": 16,
   "metadata": {},
   "outputs": [
    {
     "data": {
      "text/plain": [
       "<matplotlib.legend.Legend at 0x7fc82201b590>"
      ]
     },
     "execution_count": 16,
     "metadata": {},
     "output_type": "execute_result"
    },
    {
     "data": {
      "image/png": "[encoded data removed]",
      "text/plain": [
       "<Figure size 720x720 with 1 Axes>"
      ]
     },
     "metadata": {},
     "output_type": "display_data"
    }
   ],
   "source": [
    "plt.figure(figsize=(10,10))\n",
    "plt.title('PCA plot', size=20)\n",
    "plt.scatter(x=xco, y=yco,c='#ADD8E6')\n",
    "plt.scatter(x=worstxco, y=worstyco,c='r',lw=0.5,s=100,edgecolors='k',label=\"Worst Score\")\n",
    "plt.scatter(x=winnersxco, y=winnersyco,c='green',lw=0.5,s=100,edgecolors='k',label=\"Best Score\")\n",
    "plt.xticks([], [])\n",
    "plt.yticks([], [])\n",
    "plt.legend()"
   ]
  },
  {
   "cell_type": "markdown",
   "metadata": {},
   "source": [
    "## TSNE"
   ]
  },
  {
   "cell_type": "code",
   "execution_count": 17,
   "metadata": {},
   "outputs": [],
   "source": [
    "tsne = manifold.TSNE(n_components=2, init='random',\n",
    "                         random_state=0, perplexity=30, learning_rate=500)\n",
    "tsne_res = tsne.fit_transform(Y_sklearn)"
   ]
  },
  {
   "cell_type": "code",
   "execution_count": 18,
   "metadata": {},
   "outputs": [],
   "source": [
    "worstco = [] \n",
    "\n",
    "for i in max_indexes:\n",
    "    worstco.append(tsne_res[i])\n",
    "    \n",
    "worstxco, worstyco = zip(*worstco)"
   ]
  },
  {
   "cell_type": "code",
   "execution_count": 19,
   "metadata": {},
   "outputs": [],
   "source": [
    "winnersco = [] \n",
    "\n",
    "for i in min_indexes:\n",
    "    winnersco.append(tsne_res[i])\n",
    "    \n",
    "winnersxco, winnersyco = zip(*winnersco)"
   ]
  },
  {
   "cell_type": "code",
   "execution_count": 20,
   "metadata": {},
   "outputs": [
    {
     "data": {
      "image/png": "[encoded data removed]",
      "text/plain": [
       "<Figure size 720x720 with 1 Axes>"
      ]
     },
     "metadata": {},
     "output_type": "display_data"
    }
   ],
   "source": [
    "plt.figure(figsize=(10,10))\n",
    "plt.scatter(tsne_res[:, 0], tsne_res[:, 1],lw=0.5,s=50,c='#ADD8E6')\n",
    "plt.scatter(winnersxco, winnersyco,c='green',s=100,edgecolors='k',label=\"Best Score\")\n",
    "plt.scatter(worstxco, worstyco,c='r',s=100,edgecolors='k',label=\"Worst Score\")\n",
    "plt.title('t-distributed Stochastic Neighbor Embedding',size=21.5)\n",
    "plt.xticks([], [])\n",
    "plt.yticks([], [])\n",
    "plt.legend()\n",
    "plt.show()"
   ]
  },
  {
   "cell_type": "markdown",
   "metadata": {},
   "source": [
    "## Multi-Dimensional Scaling"
   ]
  },
  {
   "cell_type": "code",
   "execution_count": 21,
   "metadata": {},
   "outputs": [],
   "source": [
    "mds = manifold.MDS(n_components=2, max_iter=3000, eps=1e-9, \n",
    "                   dissimilarity=\"euclidean\", n_jobs=1, random_state=10)\n",
    "pos = mds.fit(Y_sklearn).embedding_"
   ]
  },
  {
   "cell_type": "code",
   "execution_count": 22,
   "metadata": {},
   "outputs": [],
   "source": [
    "worstco = [] \n",
    "\n",
    "for i in max_indexes:\n",
    "    worstco.append(pos[i])\n",
    "    \n",
    "worstxco, worstyco = zip(*worstco)"
   ]
  },
  {
   "cell_type": "code",
   "execution_count": 23,
   "metadata": {},
   "outputs": [],
   "source": [
    "winnersco = [] \n",
    "\n",
    "for i in min_indexes:\n",
    "    winnersco.append(pos[i])\n",
    "    \n",
    "winnersxco, winnersyco = zip(*winnersco)"
   ]
  },
  {
   "cell_type": "code",
   "execution_count": 24,
   "metadata": {},
   "outputs": [
    {
     "data": {
      "image/png": "[encoded data removed]",
      "text/plain": [
       "<Figure size 720x720 with 1 Axes>"
      ]
     },
     "metadata": {},
     "output_type": "display_data"
    }
   ],
   "source": [
    "plt.figure(figsize=(10,10))\n",
    "plt.scatter(pos[:, 0], pos[:, 1], lw=0.5,s=50,c='#ADD8E6')\n",
    "plt.scatter(winnersxco, winnersyco,c='green',s=100,edgecolors='k',label=\"Best Score\")\n",
    "plt.scatter(worstxco, worstyco,c='r',s=100,edgecolors='k',label=\"Worst Score\")\n",
    "plt.title('Multi-Dimensional Scaling',size=21.5)\n",
    "plt.xticks([], [])\n",
    "plt.yticks([], [])\n",
    "plt.legend()\n",
    "plt.show()"
   ]
  },
  {
   "cell_type": "markdown",
   "metadata": {},
   "source": [
    "# Train & Test sets"
   ]
  },
  {
   "cell_type": "code",
   "execution_count": 25,
   "metadata": {},
   "outputs": [],
   "source": [
    "X_train = norm_df[['avg_driv_dist', 'driv_acc', 'gir', 'scrambling','sandsaves', 'putting_avg']]\n",
    "y_train = df['score']"
   ]
  },
  {
   "cell_type": "code",
   "execution_count": 26,
   "metadata": {},
   "outputs": [],
   "source": [
    "X = norm_df2021[['avg_driv_dist', 'driv_acc', 'gir', 'scrambling','sandsaves', 'putting_avg']]\n",
    "y = df2021['score']"
   ]
  },
  {
   "cell_type": "markdown",
   "metadata": {},
   "source": [
    "# ML Models"
   ]
  },
  {
   "cell_type": "markdown",
   "metadata": {},
   "source": [
    "## Linear Regression Model"
   ]
  },
  {
   "cell_type": "code",
   "execution_count": 27,
   "metadata": {},
   "outputs": [
    {
     "data": {
      "text/html": [
       "<div>\n",
       "<style scoped>\n",
       "    .dataframe tbody tr th:only-of-type {\n",
       "        vertical-align: middle;\n",
       "    }\n",
       "\n",
       "    .dataframe tbody tr th {\n",
       "        vertical-align: top;\n",
       "    }\n",
       "\n",
       "    .dataframe thead th {\n",
       "        text-align: right;\n",
       "    }\n",
       "</style>\n",
       "<table border=\"1\" class=\"dataframe\">\n",
       "  <thead>\n",
       "    <tr style=\"text-align: right;\">\n",
       "      <th></th>\n",
       "      <th>Actual</th>\n",
       "      <th>Predicted</th>\n",
       "    </tr>\n",
       "  </thead>\n",
       "  <tbody>\n",
       "    <tr>\n",
       "      <th>0</th>\n",
       "      <td>1</td>\n",
       "      <td>7.0</td>\n",
       "    </tr>\n",
       "    <tr>\n",
       "      <th>1</th>\n",
       "      <td>5</td>\n",
       "      <td>7.0</td>\n",
       "    </tr>\n",
       "    <tr>\n",
       "      <th>2</th>\n",
       "      <td>4</td>\n",
       "      <td>5.0</td>\n",
       "    </tr>\n",
       "    <tr>\n",
       "      <th>3</th>\n",
       "      <td>-6</td>\n",
       "      <td>-0.0</td>\n",
       "    </tr>\n",
       "    <tr>\n",
       "      <th>4</th>\n",
       "      <td>4</td>\n",
       "      <td>3.0</td>\n",
       "    </tr>\n",
       "    <tr>\n",
       "      <th>5</th>\n",
       "      <td>0</td>\n",
       "      <td>-2.0</td>\n",
       "    </tr>\n",
       "    <tr>\n",
       "      <th>6</th>\n",
       "      <td>2</td>\n",
       "      <td>2.0</td>\n",
       "    </tr>\n",
       "    <tr>\n",
       "      <th>7</th>\n",
       "      <td>7</td>\n",
       "      <td>4.0</td>\n",
       "    </tr>\n",
       "    <tr>\n",
       "      <th>8</th>\n",
       "      <td>-7</td>\n",
       "      <td>-3.0</td>\n",
       "    </tr>\n",
       "    <tr>\n",
       "      <th>9</th>\n",
       "      <td>11</td>\n",
       "      <td>12.0</td>\n",
       "    </tr>\n",
       "  </tbody>\n",
       "</table>\n",
       "</div>"
      ],
      "text/plain": [
       "   Actual  Predicted\n",
       "0       1        7.0\n",
       "1       5        7.0\n",
       "2       4        5.0\n",
       "3      -6       -0.0\n",
       "4       4        3.0\n",
       "5       0       -2.0\n",
       "6       2        2.0\n",
       "7       7        4.0\n",
       "8      -7       -3.0\n",
       "9      11       12.0"
      ]
     },
     "execution_count": 27,
     "metadata": {},
     "output_type": "execute_result"
    }
   ],
   "source": [
    "regr = linear_model.LinearRegression()\n",
    "regr.fit(X_train, y_train)\n",
    "predictions2021 = regr.predict(X).round()\n",
    "df = pd.DataFrame({'Actual': y, 'Predicted': predictions2021})\n",
    "df.head(10)"
   ]
  },
  {
   "cell_type": "code",
   "execution_count": 28,
   "metadata": {},
   "outputs": [
    {
     "name": "stdout",
     "output_type": "stream",
     "text": [
      "Mean Absolute Error: 2.423076923076923\n",
      "Mean Squared Error: 8.461538461538462\n",
      "Root Mean Squared Error: 2.908872369413698\n"
     ]
    }
   ],
   "source": [
    "print('Mean Absolute Error:', metrics.mean_absolute_error(y, predictions2021))\n",
    "print('Mean Squared Error:', metrics.mean_squared_error(y, predictions2021))\n",
    "print('Root Mean Squared Error:', np.sqrt(metrics.mean_squared_error(y,predictions2021)))"
   ]
  },
  {
   "cell_type": "markdown",
   "metadata": {},
   "source": [
    "### Predicted Top 10 vs Actual Top 10"
   ]
  },
  {
   "cell_type": "code",
   "execution_count": 29,
   "metadata": {},
   "outputs": [
    {
     "data": {
      "text/html": [
       "<div>\n",
       "<style scoped>\n",
       "    .dataframe tbody tr th:only-of-type {\n",
       "        vertical-align: middle;\n",
       "    }\n",
       "\n",
       "    .dataframe tbody tr th {\n",
       "        vertical-align: top;\n",
       "    }\n",
       "\n",
       "    .dataframe thead th {\n",
       "        text-align: right;\n",
       "    }\n",
       "</style>\n",
       "<table border=\"1\" class=\"dataframe\">\n",
       "  <thead>\n",
       "    <tr style=\"text-align: right;\">\n",
       "      <th></th>\n",
       "      <th>Player</th>\n",
       "      <th>Actual</th>\n",
       "      <th>Predicted</th>\n",
       "    </tr>\n",
       "  </thead>\n",
       "  <tbody>\n",
       "    <tr>\n",
       "      <th>45</th>\n",
       "      <td>Hideki Matsuyama</td>\n",
       "      <td>-10</td>\n",
       "      <td>-7.0</td>\n",
       "    </tr>\n",
       "    <tr>\n",
       "      <th>23</th>\n",
       "      <td>Will Zalatoris</td>\n",
       "      <td>-9</td>\n",
       "      <td>-5.0</td>\n",
       "    </tr>\n",
       "    <tr>\n",
       "      <th>39</th>\n",
       "      <td>Jordan Spieth</td>\n",
       "      <td>-7</td>\n",
       "      <td>-6.0</td>\n",
       "    </tr>\n",
       "    <tr>\n",
       "      <th>8</th>\n",
       "      <td>Xander Schauffele</td>\n",
       "      <td>-7</td>\n",
       "      <td>-3.0</td>\n",
       "    </tr>\n",
       "    <tr>\n",
       "      <th>30</th>\n",
       "      <td>Marc Leishman</td>\n",
       "      <td>-6</td>\n",
       "      <td>-5.0</td>\n",
       "    </tr>\n",
       "    <tr>\n",
       "      <th>3</th>\n",
       "      <td>Jon Rahm</td>\n",
       "      <td>-6</td>\n",
       "      <td>-0.0</td>\n",
       "    </tr>\n",
       "    <tr>\n",
       "      <th>42</th>\n",
       "      <td>Justin Rose</td>\n",
       "      <td>-5</td>\n",
       "      <td>-2.0</td>\n",
       "    </tr>\n",
       "    <tr>\n",
       "      <th>32</th>\n",
       "      <td>Corey Conners</td>\n",
       "      <td>-4</td>\n",
       "      <td>0.0</td>\n",
       "    </tr>\n",
       "    <tr>\n",
       "      <th>18</th>\n",
       "      <td>Patrick Reed</td>\n",
       "      <td>-4</td>\n",
       "      <td>-3.0</td>\n",
       "    </tr>\n",
       "    <tr>\n",
       "      <th>10</th>\n",
       "      <td>Tony Finau</td>\n",
       "      <td>-3</td>\n",
       "      <td>2.0</td>\n",
       "    </tr>\n",
       "  </tbody>\n",
       "</table>\n",
       "</div>"
      ],
      "text/plain": [
       "               Player  Actual  Predicted\n",
       "45   Hideki Matsuyama     -10       -7.0\n",
       "23     Will Zalatoris      -9       -5.0\n",
       "39      Jordan Spieth      -7       -6.0\n",
       "8   Xander Schauffele      -7       -3.0\n",
       "30      Marc Leishman      -6       -5.0\n",
       "3            Jon Rahm      -6       -0.0\n",
       "42        Justin Rose      -5       -2.0\n",
       "32      Corey Conners      -4        0.0\n",
       "18       Patrick Reed      -4       -3.0\n",
       "10         Tony Finau      -3        2.0"
      ]
     },
     "execution_count": 29,
     "metadata": {},
     "output_type": "execute_result"
    }
   ],
   "source": [
    "pred_df = pd.DataFrame({'Actual': y, 'Predicted': predictions2021})\n",
    "real_df = pred_df.sort_values(by='Actual').head(10)\n",
    "real_df['Player'] = real_df.index\n",
    "names = pd.read_csv(\"2021_with_names.csv\")\n",
    "names['Player'] = names['Unnamed: 0.1']\n",
    "player_dict = names['Player'].to_dict()\n",
    "real_df['Player'] = real_df['Player'].map(player_dict)\n",
    "real_df[['Player','Actual','Predicted']]"
   ]
  },
  {
   "cell_type": "code",
   "execution_count": 30,
   "metadata": {},
   "outputs": [
    {
     "data": {
      "text/html": [
       "<div>\n",
       "<style scoped>\n",
       "    .dataframe tbody tr th:only-of-type {\n",
       "        vertical-align: middle;\n",
       "    }\n",
       "\n",
       "    .dataframe tbody tr th {\n",
       "        vertical-align: top;\n",
       "    }\n",
       "\n",
       "    .dataframe thead th {\n",
       "        text-align: right;\n",
       "    }\n",
       "</style>\n",
       "<table border=\"1\" class=\"dataframe\">\n",
       "  <thead>\n",
       "    <tr style=\"text-align: right;\">\n",
       "      <th></th>\n",
       "      <th>Player</th>\n",
       "      <th>Actual</th>\n",
       "      <th>Predicted</th>\n",
       "    </tr>\n",
       "  </thead>\n",
       "  <tbody>\n",
       "    <tr>\n",
       "      <th>45</th>\n",
       "      <td>Hideki Matsuyama</td>\n",
       "      <td>-10</td>\n",
       "      <td>-7.0</td>\n",
       "    </tr>\n",
       "    <tr>\n",
       "      <th>39</th>\n",
       "      <td>Jordan Spieth</td>\n",
       "      <td>-7</td>\n",
       "      <td>-6.0</td>\n",
       "    </tr>\n",
       "    <tr>\n",
       "      <th>23</th>\n",
       "      <td>Will Zalatoris</td>\n",
       "      <td>-9</td>\n",
       "      <td>-5.0</td>\n",
       "    </tr>\n",
       "    <tr>\n",
       "      <th>30</th>\n",
       "      <td>Marc Leishman</td>\n",
       "      <td>-6</td>\n",
       "      <td>-5.0</td>\n",
       "    </tr>\n",
       "    <tr>\n",
       "      <th>8</th>\n",
       "      <td>Xander Schauffele</td>\n",
       "      <td>-7</td>\n",
       "      <td>-3.0</td>\n",
       "    </tr>\n",
       "    <tr>\n",
       "      <th>18</th>\n",
       "      <td>Patrick Reed</td>\n",
       "      <td>-4</td>\n",
       "      <td>-3.0</td>\n",
       "    </tr>\n",
       "    <tr>\n",
       "      <th>40</th>\n",
       "      <td>Kevin Na</td>\n",
       "      <td>-2</td>\n",
       "      <td>-2.0</td>\n",
       "    </tr>\n",
       "    <tr>\n",
       "      <th>48</th>\n",
       "      <td>Webb Simpson</td>\n",
       "      <td>-2</td>\n",
       "      <td>-2.0</td>\n",
       "    </tr>\n",
       "    <tr>\n",
       "      <th>29</th>\n",
       "      <td>Cameron Smith</td>\n",
       "      <td>-3</td>\n",
       "      <td>-2.0</td>\n",
       "    </tr>\n",
       "    <tr>\n",
       "      <th>42</th>\n",
       "      <td>Justin Rose</td>\n",
       "      <td>-5</td>\n",
       "      <td>-2.0</td>\n",
       "    </tr>\n",
       "  </tbody>\n",
       "</table>\n",
       "</div>"
      ],
      "text/plain": [
       "               Player  Actual  Predicted\n",
       "45   Hideki Matsuyama     -10       -7.0\n",
       "39      Jordan Spieth      -7       -6.0\n",
       "23     Will Zalatoris      -9       -5.0\n",
       "30      Marc Leishman      -6       -5.0\n",
       "8   Xander Schauffele      -7       -3.0\n",
       "18       Patrick Reed      -4       -3.0\n",
       "40           Kevin Na      -2       -2.0\n",
       "48       Webb Simpson      -2       -2.0\n",
       "29      Cameron Smith      -3       -2.0\n",
       "42        Justin Rose      -5       -2.0"
      ]
     },
     "execution_count": 30,
     "metadata": {},
     "output_type": "execute_result"
    }
   ],
   "source": [
    "predictions_df = pred_df.sort_values(by='Predicted').head(10)\n",
    "predictions_df['Player'] = predictions_df.index\n",
    "predictions_df['Player'] = predictions_df['Player'].map(player_dict)\n",
    "predictions_df[['Player','Actual','Predicted']]"
   ]
  },
  {
   "cell_type": "markdown",
   "metadata": {},
   "source": [
    "### Feature Importance"
   ]
  },
  {
   "cell_type": "code",
   "execution_count": 31,
   "metadata": {},
   "outputs": [
    {
     "name": "stdout",
     "output_type": "stream",
     "text": [
      "Feature: 0, Score: 2.19103\n",
      "Feature: 1, Score: 1.92990\n",
      "Feature: 2, Score: -12.63105\n",
      "Feature: 3, Score: -8.36047\n",
      "Feature: 4, Score: -1.62326\n",
      "Feature: 5, Score: 12.51391\n"
     ]
    },
    {
     "data": {
      "image/png": "[encoded data removed]",
      "text/plain": [
       "<Figure size 432x288 with 1 Axes>"
      ]
     },
     "metadata": {
      "needs_background": "light"
     },
     "output_type": "display_data"
    }
   ],
   "source": [
    "from matplotlib import pyplot\n",
    "# get importance\n",
    "importance = regr.coef_\n",
    "# summarize feature importance\n",
    "for i,v in enumerate(importance):\n",
    "\tprint('Feature: %0d, Score: %.5f' % (i,v))\n",
    "# plot feature importance\n",
    "pyplot.bar([x for x in range(len(importance))], importance)\n",
    "pyplot.show()"
   ]
  },
  {
   "cell_type": "markdown",
   "metadata": {},
   "source": [
    "## Neural Network"
   ]
  },
  {
   "cell_type": "markdown",
   "metadata": {},
   "source": [
    "### Sigmoid (logistic)"
   ]
  },
  {
   "cell_type": "code",
   "execution_count": 32,
   "metadata": {},
   "outputs": [
    {
     "name": "stderr",
     "output_type": "stream",
     "text": [
      "/opt/anaconda3/lib/python3.7/site-packages/sklearn/neural_network/_multilayer_perceptron.py:571: ConvergenceWarning: Stochastic Optimizer: Maximum iterations (200) reached and the optimization hasn't converged yet.\n",
      "  % self.max_iter, ConvergenceWarning)\n"
     ]
    },
    {
     "data": {
      "text/html": [
       "<div>\n",
       "<style scoped>\n",
       "    .dataframe tbody tr th:only-of-type {\n",
       "        vertical-align: middle;\n",
       "    }\n",
       "\n",
       "    .dataframe tbody tr th {\n",
       "        vertical-align: top;\n",
       "    }\n",
       "\n",
       "    .dataframe thead th {\n",
       "        text-align: right;\n",
       "    }\n",
       "</style>\n",
       "<table border=\"1\" class=\"dataframe\">\n",
       "  <thead>\n",
       "    <tr style=\"text-align: right;\">\n",
       "      <th></th>\n",
       "      <th>Actual</th>\n",
       "      <th>Predicted</th>\n",
       "    </tr>\n",
       "  </thead>\n",
       "  <tbody>\n",
       "    <tr>\n",
       "      <th>0</th>\n",
       "      <td>1</td>\n",
       "      <td>5.0</td>\n",
       "    </tr>\n",
       "    <tr>\n",
       "      <th>1</th>\n",
       "      <td>5</td>\n",
       "      <td>5.0</td>\n",
       "    </tr>\n",
       "    <tr>\n",
       "      <th>2</th>\n",
       "      <td>4</td>\n",
       "      <td>5.0</td>\n",
       "    </tr>\n",
       "    <tr>\n",
       "      <th>3</th>\n",
       "      <td>-6</td>\n",
       "      <td>-1.0</td>\n",
       "    </tr>\n",
       "    <tr>\n",
       "      <th>4</th>\n",
       "      <td>4</td>\n",
       "      <td>2.0</td>\n",
       "    </tr>\n",
       "  </tbody>\n",
       "</table>\n",
       "</div>"
      ],
      "text/plain": [
       "   Actual  Predicted\n",
       "0       1        5.0\n",
       "1       5        5.0\n",
       "2       4        5.0\n",
       "3      -6       -1.0\n",
       "4       4        2.0"
      ]
     },
     "execution_count": 32,
     "metadata": {},
     "output_type": "execute_result"
    }
   ],
   "source": [
    "model = MLPRegressor(activation='logistic')\n",
    "model.fit(X_train, y_train)\n",
    "predictions2021 = model.predict(X).round()\n",
    "pred_df = pd.DataFrame({'Actual': y, 'Predicted': predictions2021})\n",
    "pred_df.head()"
   ]
  },
  {
   "cell_type": "code",
   "execution_count": 33,
   "metadata": {},
   "outputs": [
    {
     "name": "stdout",
     "output_type": "stream",
     "text": [
      "Mean Absolute Error: 2.519230769230769\n",
      "Mean Squared Error: 8.903846153846153\n",
      "Root Mean Squared Error: 2.983931325256356\n"
     ]
    }
   ],
   "source": [
    "print('Mean Absolute Error:', metrics.mean_absolute_error(y, predictions2021))\n",
    "print('Mean Squared Error:', metrics.mean_squared_error(y, predictions2021))\n",
    "print('Root Mean Squared Error:', np.sqrt(metrics.mean_squared_error(y,predictions2021)))"
   ]
  },
  {
   "cell_type": "code",
   "execution_count": 34,
   "metadata": {},
   "outputs": [
    {
     "data": {
      "text/plain": [
       "{'activation': 'logistic',\n",
       " 'alpha': 0.0001,\n",
       " 'batch_size': 'auto',\n",
       " 'beta_1': 0.9,\n",
       " 'beta_2': 0.999,\n",
       " 'early_stopping': False,\n",
       " 'epsilon': 1e-08,\n",
       " 'hidden_layer_sizes': (100,),\n",
       " 'learning_rate': 'constant',\n",
       " 'learning_rate_init': 0.001,\n",
       " 'max_fun': 15000,\n",
       " 'max_iter': 200,\n",
       " 'momentum': 0.9,\n",
       " 'n_iter_no_change': 10,\n",
       " 'nesterovs_momentum': True,\n",
       " 'power_t': 0.5,\n",
       " 'random_state': None,\n",
       " 'shuffle': True,\n",
       " 'solver': 'adam',\n",
       " 'tol': 0.0001,\n",
       " 'validation_fraction': 0.1,\n",
       " 'verbose': False,\n",
       " 'warm_start': False}"
      ]
     },
     "execution_count": 34,
     "metadata": {},
     "output_type": "execute_result"
    }
   ],
   "source": [
    "model.get_params()"
   ]
  },
  {
   "cell_type": "markdown",
   "metadata": {},
   "source": [
    "### Tanh"
   ]
  },
  {
   "cell_type": "code",
   "execution_count": 35,
   "metadata": {},
   "outputs": [
    {
     "data": {
      "text/html": [
       "<div>\n",
       "<style scoped>\n",
       "    .dataframe tbody tr th:only-of-type {\n",
       "        vertical-align: middle;\n",
       "    }\n",
       "\n",
       "    .dataframe tbody tr th {\n",
       "        vertical-align: top;\n",
       "    }\n",
       "\n",
       "    .dataframe thead th {\n",
       "        text-align: right;\n",
       "    }\n",
       "</style>\n",
       "<table border=\"1\" class=\"dataframe\">\n",
       "  <thead>\n",
       "    <tr style=\"text-align: right;\">\n",
       "      <th></th>\n",
       "      <th>Actual</th>\n",
       "      <th>Predicted</th>\n",
       "    </tr>\n",
       "  </thead>\n",
       "  <tbody>\n",
       "    <tr>\n",
       "      <th>0</th>\n",
       "      <td>1</td>\n",
       "      <td>7.0</td>\n",
       "    </tr>\n",
       "    <tr>\n",
       "      <th>1</th>\n",
       "      <td>5</td>\n",
       "      <td>7.0</td>\n",
       "    </tr>\n",
       "    <tr>\n",
       "      <th>2</th>\n",
       "      <td>4</td>\n",
       "      <td>5.0</td>\n",
       "    </tr>\n",
       "    <tr>\n",
       "      <th>3</th>\n",
       "      <td>-6</td>\n",
       "      <td>-0.0</td>\n",
       "    </tr>\n",
       "    <tr>\n",
       "      <th>4</th>\n",
       "      <td>4</td>\n",
       "      <td>3.0</td>\n",
       "    </tr>\n",
       "    <tr>\n",
       "      <th>5</th>\n",
       "      <td>0</td>\n",
       "      <td>-2.0</td>\n",
       "    </tr>\n",
       "    <tr>\n",
       "      <th>6</th>\n",
       "      <td>2</td>\n",
       "      <td>2.0</td>\n",
       "    </tr>\n",
       "    <tr>\n",
       "      <th>7</th>\n",
       "      <td>7</td>\n",
       "      <td>4.0</td>\n",
       "    </tr>\n",
       "    <tr>\n",
       "      <th>8</th>\n",
       "      <td>-7</td>\n",
       "      <td>-3.0</td>\n",
       "    </tr>\n",
       "    <tr>\n",
       "      <th>9</th>\n",
       "      <td>11</td>\n",
       "      <td>12.0</td>\n",
       "    </tr>\n",
       "  </tbody>\n",
       "</table>\n",
       "</div>"
      ],
      "text/plain": [
       "   Actual  Predicted\n",
       "0       1        7.0\n",
       "1       5        7.0\n",
       "2       4        5.0\n",
       "3      -6       -0.0\n",
       "4       4        3.0\n",
       "5       0       -2.0\n",
       "6       2        2.0\n",
       "7       7        4.0\n",
       "8      -7       -3.0\n",
       "9      11       12.0"
      ]
     },
     "execution_count": 35,
     "metadata": {},
     "output_type": "execute_result"
    }
   ],
   "source": [
    "model = MLPRegressor(activation='tanh')\n",
    "model.fit(X_train, y_train)\n",
    "predictions2021 = model.predict(X).round()\n",
    "pred_df = pd.DataFrame({'Actual': y, 'Predicted': predictions2021})\n",
    "pred_df.head(10)"
   ]
  },
  {
   "cell_type": "code",
   "execution_count": 36,
   "metadata": {},
   "outputs": [
    {
     "name": "stdout",
     "output_type": "stream",
     "text": [
      "Mean Absolute Error: 2.4423076923076925\n",
      "Mean Squared Error: 8.51923076923077\n",
      "Root Mean Squared Error: 2.9187721338314114\n"
     ]
    }
   ],
   "source": [
    "print('Mean Absolute Error:', metrics.mean_absolute_error(y, predictions2021))\n",
    "print('Mean Squared Error:', metrics.mean_squared_error(y, predictions2021))\n",
    "print('Root Mean Squared Error:', np.sqrt(metrics.mean_squared_error(y,predictions2021)))"
   ]
  },
  {
   "cell_type": "markdown",
   "metadata": {},
   "source": [
    "### Relu"
   ]
  },
  {
   "cell_type": "code",
   "execution_count": 37,
   "metadata": {},
   "outputs": [
    {
     "name": "stderr",
     "output_type": "stream",
     "text": [
      "/opt/anaconda3/lib/python3.7/site-packages/sklearn/neural_network/_multilayer_perceptron.py:571: ConvergenceWarning: Stochastic Optimizer: Maximum iterations (200) reached and the optimization hasn't converged yet.\n",
      "  % self.max_iter, ConvergenceWarning)\n"
     ]
    },
    {
     "data": {
      "text/html": [
       "<div>\n",
       "<style scoped>\n",
       "    .dataframe tbody tr th:only-of-type {\n",
       "        vertical-align: middle;\n",
       "    }\n",
       "\n",
       "    .dataframe tbody tr th {\n",
       "        vertical-align: top;\n",
       "    }\n",
       "\n",
       "    .dataframe thead th {\n",
       "        text-align: right;\n",
       "    }\n",
       "</style>\n",
       "<table border=\"1\" class=\"dataframe\">\n",
       "  <thead>\n",
       "    <tr style=\"text-align: right;\">\n",
       "      <th></th>\n",
       "      <th>Actual</th>\n",
       "      <th>Predicted</th>\n",
       "    </tr>\n",
       "  </thead>\n",
       "  <tbody>\n",
       "    <tr>\n",
       "      <th>0</th>\n",
       "      <td>1</td>\n",
       "      <td>7.0</td>\n",
       "    </tr>\n",
       "    <tr>\n",
       "      <th>1</th>\n",
       "      <td>5</td>\n",
       "      <td>6.0</td>\n",
       "    </tr>\n",
       "    <tr>\n",
       "      <th>2</th>\n",
       "      <td>4</td>\n",
       "      <td>5.0</td>\n",
       "    </tr>\n",
       "    <tr>\n",
       "      <th>3</th>\n",
       "      <td>-6</td>\n",
       "      <td>-0.0</td>\n",
       "    </tr>\n",
       "    <tr>\n",
       "      <th>4</th>\n",
       "      <td>4</td>\n",
       "      <td>3.0</td>\n",
       "    </tr>\n",
       "    <tr>\n",
       "      <th>5</th>\n",
       "      <td>0</td>\n",
       "      <td>-2.0</td>\n",
       "    </tr>\n",
       "    <tr>\n",
       "      <th>6</th>\n",
       "      <td>2</td>\n",
       "      <td>2.0</td>\n",
       "    </tr>\n",
       "    <tr>\n",
       "      <th>7</th>\n",
       "      <td>7</td>\n",
       "      <td>4.0</td>\n",
       "    </tr>\n",
       "    <tr>\n",
       "      <th>8</th>\n",
       "      <td>-7</td>\n",
       "      <td>-3.0</td>\n",
       "    </tr>\n",
       "    <tr>\n",
       "      <th>9</th>\n",
       "      <td>11</td>\n",
       "      <td>11.0</td>\n",
       "    </tr>\n",
       "  </tbody>\n",
       "</table>\n",
       "</div>"
      ],
      "text/plain": [
       "   Actual  Predicted\n",
       "0       1        7.0\n",
       "1       5        6.0\n",
       "2       4        5.0\n",
       "3      -6       -0.0\n",
       "4       4        3.0\n",
       "5       0       -2.0\n",
       "6       2        2.0\n",
       "7       7        4.0\n",
       "8      -7       -3.0\n",
       "9      11       11.0"
      ]
     },
     "execution_count": 37,
     "metadata": {},
     "output_type": "execute_result"
    }
   ],
   "source": [
    "model = MLPRegressor(activation='relu')\n",
    "model.fit(X_train, y_train)\n",
    "predictions2021 = model.predict(X).round()\n",
    "pred_df = pd.DataFrame({'Actual': y, 'Predicted': predictions2021})\n",
    "pred_df.head(10)"
   ]
  },
  {
   "cell_type": "code",
   "execution_count": 38,
   "metadata": {},
   "outputs": [
    {
     "name": "stdout",
     "output_type": "stream",
     "text": [
      "Mean Absolute Error: 2.4615384615384617\n",
      "Mean Squared Error: 8.884615384615385\n",
      "Root Mean Squared Error: 2.9807071953842406\n"
     ]
    }
   ],
   "source": [
    "print('Mean Absolute Error:', metrics.mean_absolute_error(y, predictions2021))\n",
    "print('Mean Squared Error:', metrics.mean_squared_error(y, predictions2021))\n",
    "print('Root Mean Squared Error:', np.sqrt(metrics.mean_squared_error(y,predictions2021)))"
   ]
  }
 ],
 "metadata": {
  "kernelspec": {
   "display_name": "Python 3",
   "language": "python",
   "name": "python3"
  },
  "language_info": {
   "codemirror_mode": {
    "name": "ipython",
    "version": 3
   },
   "file_extension": ".py",
   "mimetype": "text/x-python",
   "name": "python",
   "nbconvert_exporter": "python",
   "pygments_lexer": "ipython3",
   "version": "3.7.6"
  },
  "toc": {
   "base_numbering": 1,
   "nav_menu": {},
   "number_sections": true,
   "sideBar": true,
   "skip_h1_title": false,
   "title_cell": "Table of Contents",
   "title_sidebar": "Contents",
   "toc_cell": true,
   "toc_position": {},
   "toc_section_display": true,
   "toc_window_display": false
  }
 },
 "nbformat": 4,
 "nbformat_minor": 4
}
