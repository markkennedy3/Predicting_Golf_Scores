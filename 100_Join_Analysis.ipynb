{
 "cells": [
  {
   "cell_type": "markdown",
   "metadata": {
    "toc": true
   },
   "source": [
    "<h1>Table of Contents<span class=\"tocSkip\"></span></h1>\n",
    "<div class=\"toc\"><ul class=\"toc-item\"><li><span><a href=\"#Data-Prep\" data-toc-modified-id=\"Data-Prep-1\"><span class=\"toc-item-num\">1&nbsp;&nbsp;</span>Data Prep</a></span><ul class=\"toc-item\"><li><span><a href=\"#Load-Data\" data-toc-modified-id=\"Load-Data-1.1\"><span class=\"toc-item-num\">1.1&nbsp;&nbsp;</span>Load Data</a></span></li><li><span><a href=\"#Convert-Scores-to-Numeric-Scores\" data-toc-modified-id=\"Convert-Scores-to-Numeric-Scores-1.2\"><span class=\"toc-item-num\">1.2&nbsp;&nbsp;</span>Convert Scores to Numeric Scores</a></span></li></ul></li><li><span><a href=\"#Exploritiory-Analysis\" data-toc-modified-id=\"Exploritiory-Analysis-2\"><span class=\"toc-item-num\">2&nbsp;&nbsp;</span>Exploritiory Analysis</a></span><ul class=\"toc-item\"><li><span><a href=\"#Score-Distribution\" data-toc-modified-id=\"Score-Distribution-2.1\"><span class=\"toc-item-num\">2.1&nbsp;&nbsp;</span>Score Distribution</a></span></li><li><span><a href=\"#Winning-Scores\" data-toc-modified-id=\"Winning-Scores-2.2\"><span class=\"toc-item-num\">2.2&nbsp;&nbsp;</span>Winning Scores</a></span></li><li><span><a href=\"#Worst-Socres\" data-toc-modified-id=\"Worst-Socres-2.3\"><span class=\"toc-item-num\">2.3&nbsp;&nbsp;</span>Worst Socres</a></span></li><li><span><a href=\"#Average-Scores\" data-toc-modified-id=\"Average-Scores-2.4\"><span class=\"toc-item-num\">2.4&nbsp;&nbsp;</span>Average Scores</a></span></li><li><span><a href=\"#Scoring-by-Year\" data-toc-modified-id=\"Scoring-by-Year-2.5\"><span class=\"toc-item-num\">2.5&nbsp;&nbsp;</span>Scoring by Year</a></span></li><li><span><a href=\"#Driving-distances\" data-toc-modified-id=\"Driving-distances-2.6\"><span class=\"toc-item-num\">2.6&nbsp;&nbsp;</span>Driving distances</a></span></li><li><span><a href=\"#Driving-Accuracy\" data-toc-modified-id=\"Driving-Accuracy-2.7\"><span class=\"toc-item-num\">2.7&nbsp;&nbsp;</span>Driving Accuracy</a></span></li><li><span><a href=\"#Greens-in-Regulation\" data-toc-modified-id=\"Greens-in-Regulation-2.8\"><span class=\"toc-item-num\">2.8&nbsp;&nbsp;</span>Greens in Regulation</a></span></li><li><span><a href=\"#Scrambling\" data-toc-modified-id=\"Scrambling-2.9\"><span class=\"toc-item-num\">2.9&nbsp;&nbsp;</span>Scrambling</a></span></li><li><span><a href=\"#Sandsaves\" data-toc-modified-id=\"Sandsaves-2.10\"><span class=\"toc-item-num\">2.10&nbsp;&nbsp;</span>Sandsaves</a></span></li><li><span><a href=\"#Putting-Average\" data-toc-modified-id=\"Putting-Average-2.11\"><span class=\"toc-item-num\">2.11&nbsp;&nbsp;</span>Putting Average</a></span></li></ul></li></ul></div>"
   ]
  },
  {
   "cell_type": "code",
   "execution_count": 1,
   "metadata": {},
   "outputs": [],
   "source": [
    "import os.path\n",
    "import numpy as np\n",
    "import pandas as pd\n",
    "from math import sqrt\n",
    "from sklearn import metrics\n",
    "import matplotlib.pyplot as plt\n",
    "from sklearn import linear_model\n",
    "from sklearn.metrics import mean_squared_error\n",
    "from sklearn.metrics import mean_absolute_error\n",
    "from sklearn.preprocessing import StandardScaler\n",
    "from sklearn.neural_network import MLPClassifier\n",
    "from sklearn.model_selection import train_test_split"
   ]
  },
  {
   "cell_type": "code",
   "execution_count": 2,
   "metadata": {},
   "outputs": [],
   "source": [
    "plt.rcParams['text.color'] = 'k'\n",
    "plt.rcParams['axes.labelcolor'] = 'k'\n",
    "plt.rcParams['axes.titlesize'] = 24\n",
    "plt.rcParams['axes.labelsize'] = 24\n",
    "plt.rcParams['ytick.labelsize'] = 15\n",
    "plt.rcParams['axes.grid'] = True\n",
    "plt.rcParams['lines.markersize'] = 15\n",
    "plt.rcParams['lines.markeredgewidth'] = 1\n",
    "plt.rcParams['lines.linewidth'] = 2\n",
    "plt.rcParams['legend.fontsize'] = 12"
   ]
  },
  {
   "cell_type": "markdown",
   "metadata": {},
   "source": [
    "# Data Prep"
   ]
  },
  {
   "cell_type": "markdown",
   "metadata": {},
   "source": [
    "## Load Data"
   ]
  },
  {
   "cell_type": "code",
   "execution_count": 3,
   "metadata": {},
   "outputs": [],
   "source": [
    "df2021 = pd.read_csv(\"2021.csv\")\n",
    "df2019 = pd.read_csv(\"2019.csv\")\n",
    "df2018 = pd.read_csv(\"2018.csv\")\n",
    "df2017 = pd.read_csv(\"2017.csv\")\n",
    "df2016 = pd.read_csv(\"2016.csv\")\n",
    "df2015 = pd.read_csv(\"2015.csv\")\n",
    "df2014 = pd.read_csv(\"2014.csv\")\n",
    "df2013 = pd.read_csv(\"2013.csv\")\n",
    "df2012 = pd.read_csv(\"2012.csv\")\n",
    "df2011 = pd.read_csv(\"2011.csv\")\n",
    "df2010 = pd.read_csv(\"2010.csv\")\n",
    "df2009 = pd.read_csv(\"2009.csv\")\n",
    "df2008 = pd.read_csv(\"2008.csv\")\n",
    "df2007 = pd.read_csv(\"2007.csv\")\n",
    "df2006 = pd.read_csv(\"2006.csv\")\n",
    "df2005 = pd.read_csv(\"2005.csv\")\n",
    "df2004 = pd.read_csv(\"2004.csv\")\n",
    "df2003 = pd.read_csv(\"2003.csv\")"
   ]
  },
  {
   "cell_type": "code",
   "execution_count": 4,
   "metadata": {},
   "outputs": [],
   "source": [
    "df = pd.concat([df2019, df2018, df2017, df2016, df2015, df2014, df2013, df2012, df2011, df2010, df2009, df2008,df2006, df2005, df2004, df2003], ignore_index=True)"
   ]
  },
  {
   "cell_type": "code",
   "execution_count": 5,
   "metadata": {},
   "outputs": [],
   "source": [
    "df = df.rename(columns={\"Unnamed: 0\": \"player\"})\n",
    "df2021 = df2021.rename(columns={\"Unnamed: 0\": \"player\"})"
   ]
  },
  {
   "cell_type": "markdown",
   "metadata": {},
   "source": [
    "## Convert Scores to Numeric Scores"
   ]
  },
  {
   "cell_type": "code",
   "execution_count": 6,
   "metadata": {},
   "outputs": [],
   "source": [
    "df[\"score\"].replace({\"E\": \"0\"}, inplace=True)\n",
    "df[\"score\"] = pd.to_numeric(df[\"score\"])\n",
    "df.to_csv('df.csv')"
   ]
  },
  {
   "cell_type": "code",
   "execution_count": 7,
   "metadata": {},
   "outputs": [],
   "source": [
    "df2021[\"score\"].replace({\"E\": \"0\"}, inplace=True)\n",
    "df2021[\"score\"] = pd.to_numeric(df2021[\"score\"])\n",
    "df2021.to_csv('df2021.csv')"
   ]
  },
  {
   "cell_type": "code",
   "execution_count": 8,
   "metadata": {},
   "outputs": [],
   "source": [
    "df = df[['year','avg_driv_dist','driv_acc%','gir%','scrambling%','sandsaves','putting_avg','score']]\n",
    "df2021 = df2021[['year','avg_driv_dist','driv_acc%','gir%','scrambling%','sandsaves','putting_avg','score']]"
   ]
  },
  {
   "cell_type": "markdown",
   "metadata": {},
   "source": [
    "# Exploritiory Analysis"
   ]
  },
  {
   "cell_type": "markdown",
   "metadata": {},
   "source": [
    "## Score Distribution"
   ]
  },
  {
   "cell_type": "code",
   "execution_count": 9,
   "metadata": {},
   "outputs": [
    {
     "data": {
      "image/png": "[encoded data removed]",
      "text/plain": [
       "<Figure size 720x504 with 1 Axes>"
      ]
     },
     "metadata": {
      "needs_background": "light"
     },
     "output_type": "display_data"
    }
   ],
   "source": [
    "plt.figure(figsize=(10,7))\n",
    "plt.hist(df['score'], bins = 39, density=True)\n",
    "plt.title('Distribution of Scores')\n",
    "plt.xlabel('Score')\n",
    "plt.ylabel('% of Golfers')\n",
    "plt.show()"
   ]
  },
  {
   "cell_type": "code",
   "execution_count": 10,
   "metadata": {},
   "outputs": [
    {
     "data": {
      "text/plain": [
       "array([-18, -16, -15, -14, -13, -12, -11, -10,  -9,  -8,  -7,  -6,  -5,\n",
       "        -4,  -3,  -2,  -1,   0,   1,   2,   3,   4,   5,   6,   7,   8,\n",
       "         9,  10,  11,  12,  13,  14,  15,  16,  17,  18,  19,  20])"
      ]
     },
     "execution_count": 10,
     "metadata": {},
     "output_type": "execute_result"
    }
   ],
   "source": [
    "df['score'].sort_values().unique()"
   ]
  },
  {
   "cell_type": "code",
   "execution_count": 11,
   "metadata": {},
   "outputs": [
    {
     "data": {
      "text/plain": [
       "38"
      ]
     },
     "execution_count": 11,
     "metadata": {},
     "output_type": "execute_result"
    }
   ],
   "source": [
    "df['score'].nunique()"
   ]
  },
  {
   "cell_type": "code",
   "execution_count": 12,
   "metadata": {},
   "outputs": [
    {
     "data": {
      "text/plain": [
       "1.2576142131979695"
      ]
     },
     "execution_count": 12,
     "metadata": {},
     "output_type": "execute_result"
    }
   ],
   "source": [
    "df['score'].mean()"
   ]
  },
  {
   "cell_type": "code",
   "execution_count": 13,
   "metadata": {},
   "outputs": [
    {
     "data": {
      "text/html": [
       "<div>\n",
       "<style scoped>\n",
       "    .dataframe tbody tr th:only-of-type {\n",
       "        vertical-align: middle;\n",
       "    }\n",
       "\n",
       "    .dataframe tbody tr th {\n",
       "        vertical-align: top;\n",
       "    }\n",
       "\n",
       "    .dataframe thead th {\n",
       "        text-align: right;\n",
       "    }\n",
       "</style>\n",
       "<table border=\"1\" class=\"dataframe\">\n",
       "  <thead>\n",
       "    <tr style=\"text-align: right;\">\n",
       "      <th></th>\n",
       "      <th>year</th>\n",
       "      <th>avg_driv_dist</th>\n",
       "      <th>driv_acc%</th>\n",
       "      <th>gir%</th>\n",
       "      <th>scrambling%</th>\n",
       "      <th>sandsaves</th>\n",
       "      <th>putting_avg</th>\n",
       "      <th>score</th>\n",
       "    </tr>\n",
       "  </thead>\n",
       "  <tbody>\n",
       "    <tr>\n",
       "      <th>0</th>\n",
       "      <td>2021</td>\n",
       "      <td>324.4</td>\n",
       "      <td>71.43</td>\n",
       "      <td>62.50</td>\n",
       "      <td>48.15</td>\n",
       "      <td>20.0</td>\n",
       "      <td>1.822</td>\n",
       "      <td>1</td>\n",
       "    </tr>\n",
       "    <tr>\n",
       "      <th>1</th>\n",
       "      <td>2021</td>\n",
       "      <td>323.6</td>\n",
       "      <td>55.36</td>\n",
       "      <td>61.11</td>\n",
       "      <td>53.57</td>\n",
       "      <td>20.0</td>\n",
       "      <td>1.841</td>\n",
       "      <td>5</td>\n",
       "    </tr>\n",
       "    <tr>\n",
       "      <th>2</th>\n",
       "      <td>2021</td>\n",
       "      <td>316.5</td>\n",
       "      <td>58.93</td>\n",
       "      <td>61.11</td>\n",
       "      <td>46.43</td>\n",
       "      <td>0.0</td>\n",
       "      <td>1.773</td>\n",
       "      <td>4</td>\n",
       "    </tr>\n",
       "    <tr>\n",
       "      <th>3</th>\n",
       "      <td>2021</td>\n",
       "      <td>315.6</td>\n",
       "      <td>75.00</td>\n",
       "      <td>69.44</td>\n",
       "      <td>68.18</td>\n",
       "      <td>75.0</td>\n",
       "      <td>1.840</td>\n",
       "      <td>-6</td>\n",
       "    </tr>\n",
       "    <tr>\n",
       "      <th>4</th>\n",
       "      <td>2021</td>\n",
       "      <td>315.1</td>\n",
       "      <td>58.93</td>\n",
       "      <td>66.67</td>\n",
       "      <td>54.17</td>\n",
       "      <td>100.0</td>\n",
       "      <td>1.854</td>\n",
       "      <td>4</td>\n",
       "    </tr>\n",
       "  </tbody>\n",
       "</table>\n",
       "</div>"
      ],
      "text/plain": [
       "   year  avg_driv_dist  driv_acc%   gir%  scrambling%  sandsaves  putting_avg  \\\n",
       "0  2021          324.4      71.43  62.50        48.15       20.0        1.822   \n",
       "1  2021          323.6      55.36  61.11        53.57       20.0        1.841   \n",
       "2  2021          316.5      58.93  61.11        46.43        0.0        1.773   \n",
       "3  2021          315.6      75.00  69.44        68.18       75.0        1.840   \n",
       "4  2021          315.1      58.93  66.67        54.17      100.0        1.854   \n",
       "\n",
       "   score  \n",
       "0      1  \n",
       "1      5  \n",
       "2      4  \n",
       "3     -6  \n",
       "4      4  "
      ]
     },
     "execution_count": 13,
     "metadata": {},
     "output_type": "execute_result"
    }
   ],
   "source": [
    "df2021.head()"
   ]
  },
  {
   "cell_type": "markdown",
   "metadata": {},
   "source": [
    "## Winning Scores"
   ]
  },
  {
   "cell_type": "code",
   "execution_count": 14,
   "metadata": {},
   "outputs": [
    {
     "data": {
      "text/html": [
       "<div>\n",
       "<style scoped>\n",
       "    .dataframe tbody tr th:only-of-type {\n",
       "        vertical-align: middle;\n",
       "    }\n",
       "\n",
       "    .dataframe tbody tr th {\n",
       "        vertical-align: top;\n",
       "    }\n",
       "\n",
       "    .dataframe thead th {\n",
       "        text-align: right;\n",
       "    }\n",
       "</style>\n",
       "<table border=\"1\" class=\"dataframe\">\n",
       "  <thead>\n",
       "    <tr style=\"text-align: right;\">\n",
       "      <th></th>\n",
       "      <th>year</th>\n",
       "      <th>winning score</th>\n",
       "    </tr>\n",
       "  </thead>\n",
       "  <tbody>\n",
       "    <tr>\n",
       "      <th>0</th>\n",
       "      <td>2003</td>\n",
       "      <td>-11</td>\n",
       "    </tr>\n",
       "    <tr>\n",
       "      <th>1</th>\n",
       "      <td>2004</td>\n",
       "      <td>-9</td>\n",
       "    </tr>\n",
       "    <tr>\n",
       "      <th>2</th>\n",
       "      <td>2005</td>\n",
       "      <td>-12</td>\n",
       "    </tr>\n",
       "    <tr>\n",
       "      <th>3</th>\n",
       "      <td>2006</td>\n",
       "      <td>-7</td>\n",
       "    </tr>\n",
       "    <tr>\n",
       "      <th>4</th>\n",
       "      <td>2008</td>\n",
       "      <td>-8</td>\n",
       "    </tr>\n",
       "    <tr>\n",
       "      <th>5</th>\n",
       "      <td>2009</td>\n",
       "      <td>-12</td>\n",
       "    </tr>\n",
       "    <tr>\n",
       "      <th>6</th>\n",
       "      <td>2010</td>\n",
       "      <td>-16</td>\n",
       "    </tr>\n",
       "    <tr>\n",
       "      <th>7</th>\n",
       "      <td>2011</td>\n",
       "      <td>-14</td>\n",
       "    </tr>\n",
       "    <tr>\n",
       "      <th>8</th>\n",
       "      <td>2012</td>\n",
       "      <td>-10</td>\n",
       "    </tr>\n",
       "    <tr>\n",
       "      <th>9</th>\n",
       "      <td>2013</td>\n",
       "      <td>-9</td>\n",
       "    </tr>\n",
       "    <tr>\n",
       "      <th>10</th>\n",
       "      <td>2014</td>\n",
       "      <td>-8</td>\n",
       "    </tr>\n",
       "    <tr>\n",
       "      <th>11</th>\n",
       "      <td>2015</td>\n",
       "      <td>-18</td>\n",
       "    </tr>\n",
       "    <tr>\n",
       "      <th>12</th>\n",
       "      <td>2016</td>\n",
       "      <td>-5</td>\n",
       "    </tr>\n",
       "    <tr>\n",
       "      <th>13</th>\n",
       "      <td>2017</td>\n",
       "      <td>-9</td>\n",
       "    </tr>\n",
       "    <tr>\n",
       "      <th>14</th>\n",
       "      <td>2018</td>\n",
       "      <td>-15</td>\n",
       "    </tr>\n",
       "    <tr>\n",
       "      <th>15</th>\n",
       "      <td>2019</td>\n",
       "      <td>-13</td>\n",
       "    </tr>\n",
       "  </tbody>\n",
       "</table>\n",
       "</div>"
      ],
      "text/plain": [
       "    year  winning score\n",
       "0   2003            -11\n",
       "1   2004             -9\n",
       "2   2005            -12\n",
       "3   2006             -7\n",
       "4   2008             -8\n",
       "5   2009            -12\n",
       "6   2010            -16\n",
       "7   2011            -14\n",
       "8   2012            -10\n",
       "9   2013             -9\n",
       "10  2014             -8\n",
       "11  2015            -18\n",
       "12  2016             -5\n",
       "13  2017             -9\n",
       "14  2018            -15\n",
       "15  2019            -13"
      ]
     },
     "execution_count": 14,
     "metadata": {},
     "output_type": "execute_result"
    }
   ],
   "source": [
    "grouped_df = df.groupby(\"year\")['score']\n",
    "winning_scores = grouped_df.min()\n",
    "winning_scores = winning_scores.reset_index()\n",
    "winning_scores = winning_scores.rename(columns = {'score': 'winning score'}, inplace = False)\n",
    "winning_scores"
   ]
  },
  {
   "cell_type": "code",
   "execution_count": 15,
   "metadata": {},
   "outputs": [
    {
     "data": {
      "text/plain": [
       "-11.0"
      ]
     },
     "execution_count": 15,
     "metadata": {},
     "output_type": "execute_result"
    }
   ],
   "source": [
    "winning_scores['winning score'].mean()"
   ]
  },
  {
   "cell_type": "code",
   "execution_count": 16,
   "metadata": {},
   "outputs": [
    {
     "data": {
      "text/plain": [
       "<matplotlib.axes._subplots.AxesSubplot at 0x7fcdd1933810>"
      ]
     },
     "execution_count": 16,
     "metadata": {},
     "output_type": "execute_result"
    },
    {
     "data": {
      "image/png": "[encoded data removed]",
      "text/plain": [
       "<Figure size 432x288 with 1 Axes>"
      ]
     },
     "metadata": {
      "needs_background": "light"
     },
     "output_type": "display_data"
    }
   ],
   "source": [
    "winning_scores['winning score'].plot()"
   ]
  },
  {
   "cell_type": "code",
   "execution_count": 17,
   "metadata": {},
   "outputs": [
    {
     "data": {
      "text/plain": [
       "3.5402448126271344"
      ]
     },
     "execution_count": 17,
     "metadata": {},
     "output_type": "execute_result"
    }
   ],
   "source": [
    "winning_scores['winning score'].std()"
   ]
  },
  {
   "cell_type": "markdown",
   "metadata": {},
   "source": [
    "## Worst Socres"
   ]
  },
  {
   "cell_type": "code",
   "execution_count": 18,
   "metadata": {},
   "outputs": [
    {
     "data": {
      "text/html": [
       "<div>\n",
       "<style scoped>\n",
       "    .dataframe tbody tr th:only-of-type {\n",
       "        vertical-align: middle;\n",
       "    }\n",
       "\n",
       "    .dataframe tbody tr th {\n",
       "        vertical-align: top;\n",
       "    }\n",
       "\n",
       "    .dataframe thead th {\n",
       "        text-align: right;\n",
       "    }\n",
       "</style>\n",
       "<table border=\"1\" class=\"dataframe\">\n",
       "  <thead>\n",
       "    <tr style=\"text-align: right;\">\n",
       "      <th></th>\n",
       "      <th>year</th>\n",
       "      <th>score</th>\n",
       "    </tr>\n",
       "  </thead>\n",
       "  <tbody>\n",
       "    <tr>\n",
       "      <th>0</th>\n",
       "      <td>2003</td>\n",
       "      <td>17</td>\n",
       "    </tr>\n",
       "    <tr>\n",
       "      <th>1</th>\n",
       "      <td>2004</td>\n",
       "      <td>16</td>\n",
       "    </tr>\n",
       "    <tr>\n",
       "      <th>2</th>\n",
       "      <td>2005</td>\n",
       "      <td>18</td>\n",
       "    </tr>\n",
       "    <tr>\n",
       "      <th>3</th>\n",
       "      <td>2006</td>\n",
       "      <td>12</td>\n",
       "    </tr>\n",
       "    <tr>\n",
       "      <th>4</th>\n",
       "      <td>2008</td>\n",
       "      <td>14</td>\n",
       "    </tr>\n",
       "    <tr>\n",
       "      <th>5</th>\n",
       "      <td>2009</td>\n",
       "      <td>10</td>\n",
       "    </tr>\n",
       "    <tr>\n",
       "      <th>6</th>\n",
       "      <td>2010</td>\n",
       "      <td>14</td>\n",
       "    </tr>\n",
       "    <tr>\n",
       "      <th>7</th>\n",
       "      <td>2011</td>\n",
       "      <td>6</td>\n",
       "    </tr>\n",
       "    <tr>\n",
       "      <th>8</th>\n",
       "      <td>2012</td>\n",
       "      <td>18</td>\n",
       "    </tr>\n",
       "    <tr>\n",
       "      <th>9</th>\n",
       "      <td>2013</td>\n",
       "      <td>16</td>\n",
       "    </tr>\n",
       "    <tr>\n",
       "      <th>10</th>\n",
       "      <td>2014</td>\n",
       "      <td>16</td>\n",
       "    </tr>\n",
       "    <tr>\n",
       "      <th>11</th>\n",
       "      <td>2015</td>\n",
       "      <td>9</td>\n",
       "    </tr>\n",
       "    <tr>\n",
       "      <th>12</th>\n",
       "      <td>2016</td>\n",
       "      <td>19</td>\n",
       "    </tr>\n",
       "    <tr>\n",
       "      <th>13</th>\n",
       "      <td>2017</td>\n",
       "      <td>20</td>\n",
       "    </tr>\n",
       "    <tr>\n",
       "      <th>14</th>\n",
       "      <td>2018</td>\n",
       "      <td>10</td>\n",
       "    </tr>\n",
       "    <tr>\n",
       "      <th>15</th>\n",
       "      <td>2019</td>\n",
       "      <td>8</td>\n",
       "    </tr>\n",
       "  </tbody>\n",
       "</table>\n",
       "</div>"
      ],
      "text/plain": [
       "    year  score\n",
       "0   2003     17\n",
       "1   2004     16\n",
       "2   2005     18\n",
       "3   2006     12\n",
       "4   2008     14\n",
       "5   2009     10\n",
       "6   2010     14\n",
       "7   2011      6\n",
       "8   2012     18\n",
       "9   2013     16\n",
       "10  2014     16\n",
       "11  2015      9\n",
       "12  2016     19\n",
       "13  2017     20\n",
       "14  2018     10\n",
       "15  2019      8"
      ]
     },
     "execution_count": 18,
     "metadata": {},
     "output_type": "execute_result"
    }
   ],
   "source": [
    "worst_scores = grouped_df.max()\n",
    "worst_scores = worst_scores.reset_index()\n",
    "worst_scores"
   ]
  },
  {
   "cell_type": "code",
   "execution_count": 19,
   "metadata": {},
   "outputs": [
    {
     "data": {
      "text/plain": [
       "<matplotlib.axes._subplots.AxesSubplot at 0x7fcdd1bf51d0>"
      ]
     },
     "execution_count": 19,
     "metadata": {},
     "output_type": "execute_result"
    },
    {
     "data": {
      "image/png": "[encoded data removed]",
      "text/plain": [
       "<Figure size 432x288 with 1 Axes>"
      ]
     },
     "metadata": {
      "needs_background": "light"
     },
     "output_type": "display_data"
    }
   ],
   "source": [
    "worst_scores['score'].plot()"
   ]
  },
  {
   "cell_type": "code",
   "execution_count": 20,
   "metadata": {},
   "outputs": [
    {
     "data": {
      "text/plain": [
       "4.281257603399574"
      ]
     },
     "execution_count": 20,
     "metadata": {},
     "output_type": "execute_result"
    }
   ],
   "source": [
    "worst_scores['score'].std()"
   ]
  },
  {
   "cell_type": "markdown",
   "metadata": {},
   "source": [
    "## Average Scores"
   ]
  },
  {
   "cell_type": "code",
   "execution_count": 21,
   "metadata": {},
   "outputs": [
    {
     "data": {
      "text/html": [
       "<div>\n",
       "<style scoped>\n",
       "    .dataframe tbody tr th:only-of-type {\n",
       "        vertical-align: middle;\n",
       "    }\n",
       "\n",
       "    .dataframe tbody tr th {\n",
       "        vertical-align: top;\n",
       "    }\n",
       "\n",
       "    .dataframe thead th {\n",
       "        text-align: right;\n",
       "    }\n",
       "</style>\n",
       "<table border=\"1\" class=\"dataframe\">\n",
       "  <thead>\n",
       "    <tr style=\"text-align: right;\">\n",
       "      <th></th>\n",
       "      <th>year</th>\n",
       "      <th>average score</th>\n",
       "    </tr>\n",
       "  </thead>\n",
       "  <tbody>\n",
       "    <tr>\n",
       "      <th>0</th>\n",
       "      <td>2003</td>\n",
       "      <td>4.586957</td>\n",
       "    </tr>\n",
       "    <tr>\n",
       "      <th>1</th>\n",
       "      <td>2004</td>\n",
       "      <td>2.833333</td>\n",
       "    </tr>\n",
       "    <tr>\n",
       "      <th>2</th>\n",
       "      <td>2005</td>\n",
       "      <td>2.111111</td>\n",
       "    </tr>\n",
       "    <tr>\n",
       "      <th>3</th>\n",
       "      <td>2006</td>\n",
       "      <td>2.761905</td>\n",
       "    </tr>\n",
       "    <tr>\n",
       "      <th>4</th>\n",
       "      <td>2008</td>\n",
       "      <td>3.142857</td>\n",
       "    </tr>\n",
       "    <tr>\n",
       "      <th>5</th>\n",
       "      <td>2009</td>\n",
       "      <td>-2.042553</td>\n",
       "    </tr>\n",
       "    <tr>\n",
       "      <th>6</th>\n",
       "      <td>2010</td>\n",
       "      <td>-0.090909</td>\n",
       "    </tr>\n",
       "    <tr>\n",
       "      <th>7</th>\n",
       "      <td>2011</td>\n",
       "      <td>-2.695652</td>\n",
       "    </tr>\n",
       "    <tr>\n",
       "      <th>8</th>\n",
       "      <td>2012</td>\n",
       "      <td>2.087719</td>\n",
       "    </tr>\n",
       "    <tr>\n",
       "      <th>9</th>\n",
       "      <td>2013</td>\n",
       "      <td>2.418182</td>\n",
       "    </tr>\n",
       "    <tr>\n",
       "      <th>10</th>\n",
       "      <td>2014</td>\n",
       "      <td>3.543478</td>\n",
       "    </tr>\n",
       "    <tr>\n",
       "      <th>11</th>\n",
       "      <td>2015</td>\n",
       "      <td>-2.480769</td>\n",
       "    </tr>\n",
       "    <tr>\n",
       "      <th>12</th>\n",
       "      <td>2016</td>\n",
       "      <td>6.600000</td>\n",
       "    </tr>\n",
       "    <tr>\n",
       "      <th>13</th>\n",
       "      <td>2017</td>\n",
       "      <td>2.980769</td>\n",
       "    </tr>\n",
       "    <tr>\n",
       "      <th>14</th>\n",
       "      <td>2018</td>\n",
       "      <td>-1.358491</td>\n",
       "    </tr>\n",
       "    <tr>\n",
       "      <th>15</th>\n",
       "      <td>2019</td>\n",
       "      <td>-2.968750</td>\n",
       "    </tr>\n",
       "  </tbody>\n",
       "</table>\n",
       "</div>"
      ],
      "text/plain": [
       "    year  average score\n",
       "0   2003       4.586957\n",
       "1   2004       2.833333\n",
       "2   2005       2.111111\n",
       "3   2006       2.761905\n",
       "4   2008       3.142857\n",
       "5   2009      -2.042553\n",
       "6   2010      -0.090909\n",
       "7   2011      -2.695652\n",
       "8   2012       2.087719\n",
       "9   2013       2.418182\n",
       "10  2014       3.543478\n",
       "11  2015      -2.480769\n",
       "12  2016       6.600000\n",
       "13  2017       2.980769\n",
       "14  2018      -1.358491\n",
       "15  2019      -2.968750"
      ]
     },
     "execution_count": 21,
     "metadata": {},
     "output_type": "execute_result"
    }
   ],
   "source": [
    "average_scores = grouped_df.mean()\n",
    "average_scores = average_scores.reset_index()\n",
    "average_scores = average_scores.rename(columns = {'score': 'average score'}, inplace = False)\n",
    "average_scores"
   ]
  },
  {
   "cell_type": "code",
   "execution_count": 22,
   "metadata": {},
   "outputs": [
    {
     "data": {
      "text/plain": [
       "<matplotlib.axes._subplots.AxesSubplot at 0x7fcdd1c69a90>"
      ]
     },
     "execution_count": 22,
     "metadata": {},
     "output_type": "execute_result"
    },
    {
     "data": {
      "image/png": "[encoded data removed]",
      "text/plain": [
       "<Figure size 432x288 with 1 Axes>"
      ]
     },
     "metadata": {
      "needs_background": "light"
     },
     "output_type": "display_data"
    }
   ],
   "source": [
    "average_scores['average score'].plot()"
   ]
  },
  {
   "cell_type": "code",
   "execution_count": 23,
   "metadata": {},
   "outputs": [
    {
     "data": {
      "text/plain": [
       "2.895941922345812"
      ]
     },
     "execution_count": 23,
     "metadata": {},
     "output_type": "execute_result"
    }
   ],
   "source": [
    "average_scores['average score'].std()"
   ]
  },
  {
   "cell_type": "markdown",
   "metadata": {},
   "source": [
    "## Scoring by Year"
   ]
  },
  {
   "cell_type": "code",
   "execution_count": 24,
   "metadata": {},
   "outputs": [
    {
     "data": {
      "text/html": [
       "<div>\n",
       "<style scoped>\n",
       "    .dataframe tbody tr th:only-of-type {\n",
       "        vertical-align: middle;\n",
       "    }\n",
       "\n",
       "    .dataframe tbody tr th {\n",
       "        vertical-align: top;\n",
       "    }\n",
       "\n",
       "    .dataframe thead th {\n",
       "        text-align: right;\n",
       "    }\n",
       "</style>\n",
       "<table border=\"1\" class=\"dataframe\">\n",
       "  <thead>\n",
       "    <tr style=\"text-align: right;\">\n",
       "      <th></th>\n",
       "      <th>year</th>\n",
       "      <th>winning score</th>\n",
       "      <th>worst score</th>\n",
       "      <th>average score</th>\n",
       "      <th>range</th>\n",
       "    </tr>\n",
       "  </thead>\n",
       "  <tbody>\n",
       "    <tr>\n",
       "      <th>0</th>\n",
       "      <td>2003</td>\n",
       "      <td>-11</td>\n",
       "      <td>17</td>\n",
       "      <td>4.586957</td>\n",
       "      <td>28</td>\n",
       "    </tr>\n",
       "    <tr>\n",
       "      <th>1</th>\n",
       "      <td>2004</td>\n",
       "      <td>-9</td>\n",
       "      <td>16</td>\n",
       "      <td>2.833333</td>\n",
       "      <td>25</td>\n",
       "    </tr>\n",
       "    <tr>\n",
       "      <th>2</th>\n",
       "      <td>2005</td>\n",
       "      <td>-12</td>\n",
       "      <td>18</td>\n",
       "      <td>2.111111</td>\n",
       "      <td>30</td>\n",
       "    </tr>\n",
       "    <tr>\n",
       "      <th>3</th>\n",
       "      <td>2006</td>\n",
       "      <td>-7</td>\n",
       "      <td>12</td>\n",
       "      <td>2.761905</td>\n",
       "      <td>19</td>\n",
       "    </tr>\n",
       "    <tr>\n",
       "      <th>4</th>\n",
       "      <td>2008</td>\n",
       "      <td>-8</td>\n",
       "      <td>14</td>\n",
       "      <td>3.142857</td>\n",
       "      <td>22</td>\n",
       "    </tr>\n",
       "    <tr>\n",
       "      <th>5</th>\n",
       "      <td>2009</td>\n",
       "      <td>-12</td>\n",
       "      <td>10</td>\n",
       "      <td>-2.042553</td>\n",
       "      <td>22</td>\n",
       "    </tr>\n",
       "    <tr>\n",
       "      <th>6</th>\n",
       "      <td>2010</td>\n",
       "      <td>-16</td>\n",
       "      <td>14</td>\n",
       "      <td>-0.090909</td>\n",
       "      <td>30</td>\n",
       "    </tr>\n",
       "    <tr>\n",
       "      <th>7</th>\n",
       "      <td>2011</td>\n",
       "      <td>-14</td>\n",
       "      <td>6</td>\n",
       "      <td>-2.695652</td>\n",
       "      <td>20</td>\n",
       "    </tr>\n",
       "    <tr>\n",
       "      <th>8</th>\n",
       "      <td>2012</td>\n",
       "      <td>-10</td>\n",
       "      <td>18</td>\n",
       "      <td>2.087719</td>\n",
       "      <td>28</td>\n",
       "    </tr>\n",
       "    <tr>\n",
       "      <th>9</th>\n",
       "      <td>2013</td>\n",
       "      <td>-9</td>\n",
       "      <td>16</td>\n",
       "      <td>2.418182</td>\n",
       "      <td>25</td>\n",
       "    </tr>\n",
       "    <tr>\n",
       "      <th>10</th>\n",
       "      <td>2014</td>\n",
       "      <td>-8</td>\n",
       "      <td>16</td>\n",
       "      <td>3.543478</td>\n",
       "      <td>24</td>\n",
       "    </tr>\n",
       "    <tr>\n",
       "      <th>11</th>\n",
       "      <td>2015</td>\n",
       "      <td>-18</td>\n",
       "      <td>9</td>\n",
       "      <td>-2.480769</td>\n",
       "      <td>27</td>\n",
       "    </tr>\n",
       "    <tr>\n",
       "      <th>12</th>\n",
       "      <td>2016</td>\n",
       "      <td>-5</td>\n",
       "      <td>19</td>\n",
       "      <td>6.600000</td>\n",
       "      <td>24</td>\n",
       "    </tr>\n",
       "    <tr>\n",
       "      <th>13</th>\n",
       "      <td>2017</td>\n",
       "      <td>-9</td>\n",
       "      <td>20</td>\n",
       "      <td>2.980769</td>\n",
       "      <td>29</td>\n",
       "    </tr>\n",
       "    <tr>\n",
       "      <th>14</th>\n",
       "      <td>2018</td>\n",
       "      <td>-15</td>\n",
       "      <td>10</td>\n",
       "      <td>-1.358491</td>\n",
       "      <td>25</td>\n",
       "    </tr>\n",
       "    <tr>\n",
       "      <th>15</th>\n",
       "      <td>2019</td>\n",
       "      <td>-13</td>\n",
       "      <td>8</td>\n",
       "      <td>-2.968750</td>\n",
       "      <td>21</td>\n",
       "    </tr>\n",
       "  </tbody>\n",
       "</table>\n",
       "</div>"
      ],
      "text/plain": [
       "    year  winning score  worst score  average score  range\n",
       "0   2003            -11           17       4.586957     28\n",
       "1   2004             -9           16       2.833333     25\n",
       "2   2005            -12           18       2.111111     30\n",
       "3   2006             -7           12       2.761905     19\n",
       "4   2008             -8           14       3.142857     22\n",
       "5   2009            -12           10      -2.042553     22\n",
       "6   2010            -16           14      -0.090909     30\n",
       "7   2011            -14            6      -2.695652     20\n",
       "8   2012            -10           18       2.087719     28\n",
       "9   2013             -9           16       2.418182     25\n",
       "10  2014             -8           16       3.543478     24\n",
       "11  2015            -18            9      -2.480769     27\n",
       "12  2016             -5           19       6.600000     24\n",
       "13  2017             -9           20       2.980769     29\n",
       "14  2018            -15           10      -1.358491     25\n",
       "15  2019            -13            8      -2.968750     21"
      ]
     },
     "execution_count": 24,
     "metadata": {},
     "output_type": "execute_result"
    }
   ],
   "source": [
    "scores_range = winning_scores \n",
    "scores_range['worst score'] = worst_scores['score']\n",
    "scores_range['average score'] = average_scores['average score']\n",
    "scores_range['range'] = scores_range['worst score'] + abs(scores_range['winning score'])\n",
    "scores_range"
   ]
  },
  {
   "cell_type": "code",
   "execution_count": 25,
   "metadata": {},
   "outputs": [
    {
     "data": {
      "text/plain": [
       "24.9375"
      ]
     },
     "execution_count": 25,
     "metadata": {},
     "output_type": "execute_result"
    }
   ],
   "source": [
    "scores_range['range'].mean()"
   ]
  },
  {
   "cell_type": "code",
   "execution_count": 26,
   "metadata": {},
   "outputs": [
    {
     "data": {
      "image/png": "[encoded data removed]",
      "text/plain": [
       "<Figure size 1080x504 with 1 Axes>"
      ]
     },
     "metadata": {
      "needs_background": "light"
     },
     "output_type": "display_data"
    }
   ],
   "source": [
    "scoring_df = scores_range[['year','worst score','average score','winning score']].set_index('year')\n",
    "fig, ax = plt.subplots(figsize=(15,7))\n",
    "scoring_df.plot(ax=ax,color=['blue', 'darkorange', 'green'])\n",
    "ax.set_title('Year by Year Scoring')\n",
    "plt.gca().set_xticks(scoring_df.index) \n",
    "plt.xlabel('Year')\n",
    "plt.ylabel('Score')\n",
    "plt.show()"
   ]
  },
  {
   "cell_type": "code",
   "execution_count": 27,
   "metadata": {},
   "outputs": [
    {
     "name": "stdout",
     "output_type": "stream",
     "text": [
      "Winning mean: -11.0\n",
      "Winning variance: 11.75\n",
      "Winning std: 3.427827300200522\n"
     ]
    }
   ],
   "source": [
    "print(\"Winning mean: \" + str(scores_range['winning score'].mean()))\n",
    "print(\"Winning variance: \" + str(scores_range['winning score'].var(ddof=0)))\n",
    "print(\"Winning std: \" + str(scores_range['winning score'].std(ddof=0)))"
   ]
  },
  {
   "cell_type": "code",
   "execution_count": 28,
   "metadata": {},
   "outputs": [
    {
     "name": "stdout",
     "output_type": "stream",
     "text": [
      "Worst mean: 13.9375\n",
      "Worst variance: 17.18359375\n",
      "Worst std: 4.1453098496976075\n"
     ]
    }
   ],
   "source": [
    "print(\"Worst mean: \" + str(scores_range['worst score'].mean()))\n",
    "print(\"Worst variance: \" + str(scores_range['worst score'].var(ddof=0)))\n",
    "print(\"Worst std: \" + str(scores_range['worst score'].std(ddof=0)))"
   ]
  },
  {
   "cell_type": "code",
   "execution_count": 29,
   "metadata": {},
   "outputs": [
    {
     "name": "stdout",
     "output_type": "stream",
     "text": [
      "Average mean: 1.339324201618328\n",
      "Average variance: 7.862324641499957\n",
      "Average std: 2.803983709207305\n"
     ]
    }
   ],
   "source": [
    "print(\"Average mean: \" + str(scores_range['average score'].mean()))\n",
    "print(\"Average variance: \" + str(scores_range['average score'].var(ddof=0)))\n",
    "print(\"Average std: \" + str(scores_range['average score'].std(ddof=0)))"
   ]
  },
  {
   "cell_type": "code",
   "execution_count": 30,
   "metadata": {},
   "outputs": [
    {
     "data": {
      "text/plain": [
       "0.6113907811887205"
      ]
     },
     "execution_count": 30,
     "metadata": {},
     "output_type": "execute_result"
    }
   ],
   "source": [
    "scores_range['winning score'].corr(scores_range['worst score'])"
   ]
  },
  {
   "cell_type": "markdown",
   "metadata": {},
   "source": [
    "## Driving distances"
   ]
  },
  {
   "cell_type": "code",
   "execution_count": 31,
   "metadata": {},
   "outputs": [
    {
     "data": {
      "text/html": [
       "<div>\n",
       "<style scoped>\n",
       "    .dataframe tbody tr th:only-of-type {\n",
       "        vertical-align: middle;\n",
       "    }\n",
       "\n",
       "    .dataframe tbody tr th {\n",
       "        vertical-align: top;\n",
       "    }\n",
       "\n",
       "    .dataframe thead th {\n",
       "        text-align: right;\n",
       "    }\n",
       "</style>\n",
       "<table border=\"1\" class=\"dataframe\">\n",
       "  <thead>\n",
       "    <tr style=\"text-align: right;\">\n",
       "      <th></th>\n",
       "      <th>min</th>\n",
       "      <th>max</th>\n",
       "      <th>mean</th>\n",
       "    </tr>\n",
       "    <tr>\n",
       "      <th>year</th>\n",
       "      <th></th>\n",
       "      <th></th>\n",
       "      <th></th>\n",
       "    </tr>\n",
       "  </thead>\n",
       "  <tbody>\n",
       "    <tr>\n",
       "      <th>2003</th>\n",
       "      <td>264.4</td>\n",
       "      <td>296.0</td>\n",
       "      <td>278.741304</td>\n",
       "    </tr>\n",
       "    <tr>\n",
       "      <th>2004</th>\n",
       "      <td>271.0</td>\n",
       "      <td>301.1</td>\n",
       "      <td>284.140476</td>\n",
       "    </tr>\n",
       "    <tr>\n",
       "      <th>2005</th>\n",
       "      <td>253.6</td>\n",
       "      <td>292.9</td>\n",
       "      <td>273.104444</td>\n",
       "    </tr>\n",
       "    <tr>\n",
       "      <th>2006</th>\n",
       "      <td>263.3</td>\n",
       "      <td>299.3</td>\n",
       "      <td>283.297619</td>\n",
       "    </tr>\n",
       "    <tr>\n",
       "      <th>2008</th>\n",
       "      <td>258.0</td>\n",
       "      <td>297.9</td>\n",
       "      <td>277.419048</td>\n",
       "    </tr>\n",
       "    <tr>\n",
       "      <th>2009</th>\n",
       "      <td>268.3</td>\n",
       "      <td>308.4</td>\n",
       "      <td>279.985106</td>\n",
       "    </tr>\n",
       "    <tr>\n",
       "      <th>2010</th>\n",
       "      <td>270.5</td>\n",
       "      <td>300.8</td>\n",
       "      <td>282.720455</td>\n",
       "    </tr>\n",
       "    <tr>\n",
       "      <th>2011</th>\n",
       "      <td>270.4</td>\n",
       "      <td>303.4</td>\n",
       "      <td>285.550000</td>\n",
       "    </tr>\n",
       "    <tr>\n",
       "      <th>2012</th>\n",
       "      <td>260.3</td>\n",
       "      <td>292.3</td>\n",
       "      <td>280.122807</td>\n",
       "    </tr>\n",
       "    <tr>\n",
       "      <th>2013</th>\n",
       "      <td>273.0</td>\n",
       "      <td>304.4</td>\n",
       "      <td>289.160000</td>\n",
       "    </tr>\n",
       "    <tr>\n",
       "      <th>2014</th>\n",
       "      <td>258.6</td>\n",
       "      <td>305.6</td>\n",
       "      <td>290.456522</td>\n",
       "    </tr>\n",
       "    <tr>\n",
       "      <th>2015</th>\n",
       "      <td>270.5</td>\n",
       "      <td>315.5</td>\n",
       "      <td>289.525000</td>\n",
       "    </tr>\n",
       "    <tr>\n",
       "      <th>2016</th>\n",
       "      <td>244.9</td>\n",
       "      <td>299.5</td>\n",
       "      <td>280.127273</td>\n",
       "    </tr>\n",
       "    <tr>\n",
       "      <th>2017</th>\n",
       "      <td>250.5</td>\n",
       "      <td>302.9</td>\n",
       "      <td>282.098077</td>\n",
       "    </tr>\n",
       "    <tr>\n",
       "      <th>2018</th>\n",
       "      <td>270.1</td>\n",
       "      <td>310.6</td>\n",
       "      <td>289.562264</td>\n",
       "    </tr>\n",
       "    <tr>\n",
       "      <th>2019</th>\n",
       "      <td>272.6</td>\n",
       "      <td>316.3</td>\n",
       "      <td>298.168750</td>\n",
       "    </tr>\n",
       "  </tbody>\n",
       "</table>\n",
       "</div>"
      ],
      "text/plain": [
       "        min    max        mean\n",
       "year                          \n",
       "2003  264.4  296.0  278.741304\n",
       "2004  271.0  301.1  284.140476\n",
       "2005  253.6  292.9  273.104444\n",
       "2006  263.3  299.3  283.297619\n",
       "2008  258.0  297.9  277.419048\n",
       "2009  268.3  308.4  279.985106\n",
       "2010  270.5  300.8  282.720455\n",
       "2011  270.4  303.4  285.550000\n",
       "2012  260.3  292.3  280.122807\n",
       "2013  273.0  304.4  289.160000\n",
       "2014  258.6  305.6  290.456522\n",
       "2015  270.5  315.5  289.525000\n",
       "2016  244.9  299.5  280.127273\n",
       "2017  250.5  302.9  282.098077\n",
       "2018  270.1  310.6  289.562264\n",
       "2019  272.6  316.3  298.168750"
      ]
     },
     "execution_count": 31,
     "metadata": {},
     "output_type": "execute_result"
    }
   ],
   "source": [
    "grouped_df = df.groupby(\"year\")['avg_driv_dist']\n",
    "driving_distance = pd.DataFrame(columns = ['min','max'])\n",
    "driving_distance['min'] = grouped_df.min()\n",
    "driving_distance['max'] = grouped_df.max()\n",
    "driving_distance['mean'] = grouped_df.mean()\n",
    "driving_distance"
   ]
  },
  {
   "cell_type": "code",
   "execution_count": 32,
   "metadata": {},
   "outputs": [
    {
     "data": {
      "text/plain": [
       "<matplotlib.axes._subplots.AxesSubplot at 0x7fcdd1d45cd0>"
      ]
     },
     "execution_count": 32,
     "metadata": {},
     "output_type": "execute_result"
    },
    {
     "data": {
      "image/png": "[encoded data removed]",
      "text/plain": [
       "<Figure size 432x288 with 1 Axes>"
      ]
     },
     "metadata": {
      "needs_background": "light"
     },
     "output_type": "display_data"
    }
   ],
   "source": [
    "driving_distance.plot()"
   ]
  },
  {
   "cell_type": "code",
   "execution_count": 33,
   "metadata": {},
   "outputs": [
    {
     "data": {
      "image/png": "[encoded data removed]",
      "text/plain": [
       "<Figure size 1080x504 with 1 Axes>"
      ]
     },
     "metadata": {
      "needs_background": "light"
     },
     "output_type": "display_data"
    }
   ],
   "source": [
    "fig, ax = plt.subplots(figsize=(15,7))\n",
    "driving_distance.plot(ax=ax,color=['blue', 'darkorange', 'green'])\n",
    "ax.set_title('Driving Distance by Year')\n",
    "plt.gca().set_xticks(scoring_df.index) \n",
    "plt.xlabel('Distance (Meters)')\n",
    "plt.ylabel('Score')\n",
    "plt.show()"
   ]
  },
  {
   "cell_type": "code",
   "execution_count": 34,
   "metadata": {},
   "outputs": [
    {
     "data": {
      "image/png": "[encoded data removed]",
      "text/plain": [
       "<Figure size 1080x504 with 1 Axes>"
      ]
     },
     "metadata": {
      "needs_background": "light"
     },
     "output_type": "display_data"
    }
   ],
   "source": [
    "fig, ax = plt.subplots(figsize=(15,7))\n",
    "df.groupby(\"year\")['avg_driv_dist'].mean().plot(ax=ax,color='blue')\n",
    "ax.set_title('Average Driving Distance by Year')\n",
    "plt.gca().set_xticks(df.year) \n",
    "plt.xlabel('Year')\n",
    "plt.ylabel('Distance (Meters)')\n",
    "plt.show()"
   ]
  },
  {
   "cell_type": "markdown",
   "metadata": {},
   "source": [
    "## Driving Accuracy"
   ]
  },
  {
   "cell_type": "code",
   "execution_count": 35,
   "metadata": {},
   "outputs": [
    {
     "data": {
      "text/html": [
       "<div>\n",
       "<style scoped>\n",
       "    .dataframe tbody tr th:only-of-type {\n",
       "        vertical-align: middle;\n",
       "    }\n",
       "\n",
       "    .dataframe tbody tr th {\n",
       "        vertical-align: top;\n",
       "    }\n",
       "\n",
       "    .dataframe thead th {\n",
       "        text-align: right;\n",
       "    }\n",
       "</style>\n",
       "<table border=\"1\" class=\"dataframe\">\n",
       "  <thead>\n",
       "    <tr style=\"text-align: right;\">\n",
       "      <th></th>\n",
       "      <th>min</th>\n",
       "      <th>max</th>\n",
       "      <th>mean</th>\n",
       "    </tr>\n",
       "    <tr>\n",
       "      <th>year</th>\n",
       "      <th></th>\n",
       "      <th></th>\n",
       "      <th></th>\n",
       "    </tr>\n",
       "  </thead>\n",
       "  <tbody>\n",
       "    <tr>\n",
       "      <th>2003</th>\n",
       "      <td>44.64</td>\n",
       "      <td>85.71</td>\n",
       "      <td>69.176304</td>\n",
       "    </tr>\n",
       "    <tr>\n",
       "      <th>2004</th>\n",
       "      <td>46.43</td>\n",
       "      <td>83.93</td>\n",
       "      <td>65.561905</td>\n",
       "    </tr>\n",
       "    <tr>\n",
       "      <th>2005</th>\n",
       "      <td>55.36</td>\n",
       "      <td>82.14</td>\n",
       "      <td>69.683333</td>\n",
       "    </tr>\n",
       "    <tr>\n",
       "      <th>2006</th>\n",
       "      <td>53.57</td>\n",
       "      <td>83.93</td>\n",
       "      <td>69.770476</td>\n",
       "    </tr>\n",
       "    <tr>\n",
       "      <th>2008</th>\n",
       "      <td>57.14</td>\n",
       "      <td>85.71</td>\n",
       "      <td>71.598571</td>\n",
       "    </tr>\n",
       "    <tr>\n",
       "      <th>2009</th>\n",
       "      <td>50.00</td>\n",
       "      <td>89.29</td>\n",
       "      <td>72.492340</td>\n",
       "    </tr>\n",
       "    <tr>\n",
       "      <th>2010</th>\n",
       "      <td>53.57</td>\n",
       "      <td>89.29</td>\n",
       "      <td>72.767727</td>\n",
       "    </tr>\n",
       "    <tr>\n",
       "      <th>2011</th>\n",
       "      <td>53.57</td>\n",
       "      <td>85.71</td>\n",
       "      <td>68.050435</td>\n",
       "    </tr>\n",
       "    <tr>\n",
       "      <th>2012</th>\n",
       "      <td>53.57</td>\n",
       "      <td>85.71</td>\n",
       "      <td>72.054912</td>\n",
       "    </tr>\n",
       "    <tr>\n",
       "      <th>2013</th>\n",
       "      <td>46.43</td>\n",
       "      <td>83.93</td>\n",
       "      <td>65.064909</td>\n",
       "    </tr>\n",
       "    <tr>\n",
       "      <th>2014</th>\n",
       "      <td>53.57</td>\n",
       "      <td>82.14</td>\n",
       "      <td>67.624348</td>\n",
       "    </tr>\n",
       "    <tr>\n",
       "      <th>2015</th>\n",
       "      <td>53.57</td>\n",
       "      <td>85.71</td>\n",
       "      <td>67.685962</td>\n",
       "    </tr>\n",
       "    <tr>\n",
       "      <th>2016</th>\n",
       "      <td>53.57</td>\n",
       "      <td>82.14</td>\n",
       "      <td>67.532545</td>\n",
       "    </tr>\n",
       "    <tr>\n",
       "      <th>2017</th>\n",
       "      <td>46.43</td>\n",
       "      <td>80.36</td>\n",
       "      <td>64.801154</td>\n",
       "    </tr>\n",
       "    <tr>\n",
       "      <th>2018</th>\n",
       "      <td>50.00</td>\n",
       "      <td>85.71</td>\n",
       "      <td>67.789811</td>\n",
       "    </tr>\n",
       "    <tr>\n",
       "      <th>2019</th>\n",
       "      <td>50.00</td>\n",
       "      <td>85.71</td>\n",
       "      <td>68.331250</td>\n",
       "    </tr>\n",
       "  </tbody>\n",
       "</table>\n",
       "</div>"
      ],
      "text/plain": [
       "        min    max       mean\n",
       "year                         \n",
       "2003  44.64  85.71  69.176304\n",
       "2004  46.43  83.93  65.561905\n",
       "2005  55.36  82.14  69.683333\n",
       "2006  53.57  83.93  69.770476\n",
       "2008  57.14  85.71  71.598571\n",
       "2009  50.00  89.29  72.492340\n",
       "2010  53.57  89.29  72.767727\n",
       "2011  53.57  85.71  68.050435\n",
       "2012  53.57  85.71  72.054912\n",
       "2013  46.43  83.93  65.064909\n",
       "2014  53.57  82.14  67.624348\n",
       "2015  53.57  85.71  67.685962\n",
       "2016  53.57  82.14  67.532545\n",
       "2017  46.43  80.36  64.801154\n",
       "2018  50.00  85.71  67.789811\n",
       "2019  50.00  85.71  68.331250"
      ]
     },
     "execution_count": 35,
     "metadata": {},
     "output_type": "execute_result"
    }
   ],
   "source": [
    "grouped_df = df.groupby(\"year\")['driv_acc%']\n",
    "driving_acc = pd.DataFrame(columns = ['min','max'])\n",
    "driving_acc['min'] = grouped_df.min()\n",
    "driving_acc['max'] = grouped_df.max()\n",
    "driving_acc['mean'] = grouped_df.mean()\n",
    "driving_acc"
   ]
  },
  {
   "cell_type": "code",
   "execution_count": 36,
   "metadata": {},
   "outputs": [
    {
     "data": {
      "image/png": "[encoded data removed]",
      "text/plain": [
       "<Figure size 1080x504 with 1 Axes>"
      ]
     },
     "metadata": {
      "needs_background": "light"
     },
     "output_type": "display_data"
    }
   ],
   "source": [
    "fig, ax = plt.subplots(figsize=(15,7))\n",
    "df.groupby(\"year\")['driv_acc%'].mean().plot(ax=ax,color='blue')\n",
    "ax.set_title('Average Driving Accuracy by Year')\n",
    "plt.gca().set_xticks(df.year) \n",
    "plt.xlabel('Year')\n",
    "plt.ylabel('Accuracy %')\n",
    "plt.show()"
   ]
  },
  {
   "cell_type": "markdown",
   "metadata": {},
   "source": [
    "## Greens in Regulation"
   ]
  },
  {
   "cell_type": "code",
   "execution_count": 37,
   "metadata": {},
   "outputs": [
    {
     "data": {
      "text/html": [
       "<div>\n",
       "<style scoped>\n",
       "    .dataframe tbody tr th:only-of-type {\n",
       "        vertical-align: middle;\n",
       "    }\n",
       "\n",
       "    .dataframe tbody tr th {\n",
       "        vertical-align: top;\n",
       "    }\n",
       "\n",
       "    .dataframe thead th {\n",
       "        text-align: right;\n",
       "    }\n",
       "</style>\n",
       "<table border=\"1\" class=\"dataframe\">\n",
       "  <thead>\n",
       "    <tr style=\"text-align: right;\">\n",
       "      <th></th>\n",
       "      <th>min</th>\n",
       "      <th>max</th>\n",
       "      <th>mean</th>\n",
       "    </tr>\n",
       "    <tr>\n",
       "      <th>year</th>\n",
       "      <th></th>\n",
       "      <th></th>\n",
       "      <th></th>\n",
       "    </tr>\n",
       "  </thead>\n",
       "  <tbody>\n",
       "    <tr>\n",
       "      <th>2003</th>\n",
       "      <td>47.22</td>\n",
       "      <td>69.44</td>\n",
       "      <td>58.303261</td>\n",
       "    </tr>\n",
       "    <tr>\n",
       "      <th>2004</th>\n",
       "      <td>48.61</td>\n",
       "      <td>73.61</td>\n",
       "      <td>61.508333</td>\n",
       "    </tr>\n",
       "    <tr>\n",
       "      <th>2005</th>\n",
       "      <td>48.61</td>\n",
       "      <td>80.56</td>\n",
       "      <td>63.333778</td>\n",
       "    </tr>\n",
       "    <tr>\n",
       "      <th>2006</th>\n",
       "      <td>48.61</td>\n",
       "      <td>76.39</td>\n",
       "      <td>62.070476</td>\n",
       "    </tr>\n",
       "    <tr>\n",
       "      <th>2008</th>\n",
       "      <td>52.78</td>\n",
       "      <td>72.22</td>\n",
       "      <td>62.070238</td>\n",
       "    </tr>\n",
       "    <tr>\n",
       "      <th>2009</th>\n",
       "      <td>52.78</td>\n",
       "      <td>76.39</td>\n",
       "      <td>65.366383</td>\n",
       "    </tr>\n",
       "    <tr>\n",
       "      <th>2010</th>\n",
       "      <td>54.17</td>\n",
       "      <td>80.56</td>\n",
       "      <td>65.625000</td>\n",
       "    </tr>\n",
       "    <tr>\n",
       "      <th>2011</th>\n",
       "      <td>56.94</td>\n",
       "      <td>79.17</td>\n",
       "      <td>67.150217</td>\n",
       "    </tr>\n",
       "    <tr>\n",
       "      <th>2012</th>\n",
       "      <td>48.61</td>\n",
       "      <td>80.56</td>\n",
       "      <td>62.597368</td>\n",
       "    </tr>\n",
       "    <tr>\n",
       "      <th>2013</th>\n",
       "      <td>47.22</td>\n",
       "      <td>76.39</td>\n",
       "      <td>62.348909</td>\n",
       "    </tr>\n",
       "    <tr>\n",
       "      <th>2014</th>\n",
       "      <td>44.44</td>\n",
       "      <td>73.61</td>\n",
       "      <td>60.235652</td>\n",
       "    </tr>\n",
       "    <tr>\n",
       "      <th>2015</th>\n",
       "      <td>52.78</td>\n",
       "      <td>81.94</td>\n",
       "      <td>65.731923</td>\n",
       "    </tr>\n",
       "    <tr>\n",
       "      <th>2016</th>\n",
       "      <td>43.06</td>\n",
       "      <td>75.00</td>\n",
       "      <td>60.328182</td>\n",
       "    </tr>\n",
       "    <tr>\n",
       "      <th>2017</th>\n",
       "      <td>44.44</td>\n",
       "      <td>77.78</td>\n",
       "      <td>62.980577</td>\n",
       "    </tr>\n",
       "    <tr>\n",
       "      <th>2018</th>\n",
       "      <td>54.17</td>\n",
       "      <td>77.78</td>\n",
       "      <td>65.015283</td>\n",
       "    </tr>\n",
       "    <tr>\n",
       "      <th>2019</th>\n",
       "      <td>55.56</td>\n",
       "      <td>80.56</td>\n",
       "      <td>66.059219</td>\n",
       "    </tr>\n",
       "  </tbody>\n",
       "</table>\n",
       "</div>"
      ],
      "text/plain": [
       "        min    max       mean\n",
       "year                         \n",
       "2003  47.22  69.44  58.303261\n",
       "2004  48.61  73.61  61.508333\n",
       "2005  48.61  80.56  63.333778\n",
       "2006  48.61  76.39  62.070476\n",
       "2008  52.78  72.22  62.070238\n",
       "2009  52.78  76.39  65.366383\n",
       "2010  54.17  80.56  65.625000\n",
       "2011  56.94  79.17  67.150217\n",
       "2012  48.61  80.56  62.597368\n",
       "2013  47.22  76.39  62.348909\n",
       "2014  44.44  73.61  60.235652\n",
       "2015  52.78  81.94  65.731923\n",
       "2016  43.06  75.00  60.328182\n",
       "2017  44.44  77.78  62.980577\n",
       "2018  54.17  77.78  65.015283\n",
       "2019  55.56  80.56  66.059219"
      ]
     },
     "execution_count": 37,
     "metadata": {},
     "output_type": "execute_result"
    }
   ],
   "source": [
    "grouped_df = df.groupby(\"year\")['gir%']\n",
    "gir = pd.DataFrame(columns = ['min','max'])\n",
    "gir['min'] = grouped_df.min()\n",
    "gir['max'] = grouped_df.max()\n",
    "gir['mean'] = grouped_df.mean()\n",
    "gir"
   ]
  },
  {
   "cell_type": "code",
   "execution_count": 38,
   "metadata": {},
   "outputs": [
    {
     "data": {
      "text/plain": [
       "<matplotlib.axes._subplots.AxesSubplot at 0x7fcdd4517e10>"
      ]
     },
     "execution_count": 38,
     "metadata": {},
     "output_type": "execute_result"
    },
    {
     "data": {
      "image/png": "[encoded data removed]",
      "text/plain": [
       "<Figure size 432x288 with 1 Axes>"
      ]
     },
     "metadata": {
      "needs_background": "light"
     },
     "output_type": "display_data"
    }
   ],
   "source": [
    "gir.plot()"
   ]
  },
  {
   "cell_type": "markdown",
   "metadata": {},
   "source": [
    "## Scrambling"
   ]
  },
  {
   "cell_type": "code",
   "execution_count": 39,
   "metadata": {},
   "outputs": [
    {
     "data": {
      "text/html": [
       "<div>\n",
       "<style scoped>\n",
       "    .dataframe tbody tr th:only-of-type {\n",
       "        vertical-align: middle;\n",
       "    }\n",
       "\n",
       "    .dataframe tbody tr th {\n",
       "        vertical-align: top;\n",
       "    }\n",
       "\n",
       "    .dataframe thead th {\n",
       "        text-align: right;\n",
       "    }\n",
       "</style>\n",
       "<table border=\"1\" class=\"dataframe\">\n",
       "  <thead>\n",
       "    <tr style=\"text-align: right;\">\n",
       "      <th></th>\n",
       "      <th>min</th>\n",
       "      <th>max</th>\n",
       "      <th>mean</th>\n",
       "    </tr>\n",
       "    <tr>\n",
       "      <th>year</th>\n",
       "      <th></th>\n",
       "      <th></th>\n",
       "      <th></th>\n",
       "    </tr>\n",
       "  </thead>\n",
       "  <tbody>\n",
       "    <tr>\n",
       "      <th>2003</th>\n",
       "      <td>31.82</td>\n",
       "      <td>76.47</td>\n",
       "      <td>59.118478</td>\n",
       "    </tr>\n",
       "    <tr>\n",
       "      <th>2004</th>\n",
       "      <td>32.00</td>\n",
       "      <td>75.00</td>\n",
       "      <td>58.270714</td>\n",
       "    </tr>\n",
       "    <tr>\n",
       "      <th>2005</th>\n",
       "      <td>37.04</td>\n",
       "      <td>73.08</td>\n",
       "      <td>59.298889</td>\n",
       "    </tr>\n",
       "    <tr>\n",
       "      <th>2006</th>\n",
       "      <td>40.00</td>\n",
       "      <td>75.00</td>\n",
       "      <td>60.187619</td>\n",
       "    </tr>\n",
       "    <tr>\n",
       "      <th>2008</th>\n",
       "      <td>34.38</td>\n",
       "      <td>80.95</td>\n",
       "      <td>56.773333</td>\n",
       "    </tr>\n",
       "    <tr>\n",
       "      <th>2009</th>\n",
       "      <td>35.00</td>\n",
       "      <td>82.61</td>\n",
       "      <td>59.642553</td>\n",
       "    </tr>\n",
       "    <tr>\n",
       "      <th>2010</th>\n",
       "      <td>42.86</td>\n",
       "      <td>79.17</td>\n",
       "      <td>58.705682</td>\n",
       "    </tr>\n",
       "    <tr>\n",
       "      <th>2011</th>\n",
       "      <td>40.00</td>\n",
       "      <td>80.95</td>\n",
       "      <td>56.960870</td>\n",
       "    </tr>\n",
       "    <tr>\n",
       "      <th>2012</th>\n",
       "      <td>30.00</td>\n",
       "      <td>74.07</td>\n",
       "      <td>54.720702</td>\n",
       "    </tr>\n",
       "    <tr>\n",
       "      <th>2013</th>\n",
       "      <td>29.63</td>\n",
       "      <td>76.67</td>\n",
       "      <td>53.143455</td>\n",
       "    </tr>\n",
       "    <tr>\n",
       "      <th>2014</th>\n",
       "      <td>30.00</td>\n",
       "      <td>79.41</td>\n",
       "      <td>53.903696</td>\n",
       "    </tr>\n",
       "    <tr>\n",
       "      <th>2015</th>\n",
       "      <td>33.33</td>\n",
       "      <td>81.82</td>\n",
       "      <td>57.011154</td>\n",
       "    </tr>\n",
       "    <tr>\n",
       "      <th>2016</th>\n",
       "      <td>26.92</td>\n",
       "      <td>70.83</td>\n",
       "      <td>52.286909</td>\n",
       "    </tr>\n",
       "    <tr>\n",
       "      <th>2017</th>\n",
       "      <td>32.14</td>\n",
       "      <td>75.00</td>\n",
       "      <td>54.874038</td>\n",
       "    </tr>\n",
       "    <tr>\n",
       "      <th>2018</th>\n",
       "      <td>29.63</td>\n",
       "      <td>86.36</td>\n",
       "      <td>57.952264</td>\n",
       "    </tr>\n",
       "    <tr>\n",
       "      <th>2019</th>\n",
       "      <td>33.33</td>\n",
       "      <td>84.00</td>\n",
       "      <td>57.721250</td>\n",
       "    </tr>\n",
       "  </tbody>\n",
       "</table>\n",
       "</div>"
      ],
      "text/plain": [
       "        min    max       mean\n",
       "year                         \n",
       "2003  31.82  76.47  59.118478\n",
       "2004  32.00  75.00  58.270714\n",
       "2005  37.04  73.08  59.298889\n",
       "2006  40.00  75.00  60.187619\n",
       "2008  34.38  80.95  56.773333\n",
       "2009  35.00  82.61  59.642553\n",
       "2010  42.86  79.17  58.705682\n",
       "2011  40.00  80.95  56.960870\n",
       "2012  30.00  74.07  54.720702\n",
       "2013  29.63  76.67  53.143455\n",
       "2014  30.00  79.41  53.903696\n",
       "2015  33.33  81.82  57.011154\n",
       "2016  26.92  70.83  52.286909\n",
       "2017  32.14  75.00  54.874038\n",
       "2018  29.63  86.36  57.952264\n",
       "2019  33.33  84.00  57.721250"
      ]
     },
     "execution_count": 39,
     "metadata": {},
     "output_type": "execute_result"
    }
   ],
   "source": [
    "grouped_df = df.groupby(\"year\")['scrambling%']\n",
    "scrambling = pd.DataFrame(columns = ['min','max'])\n",
    "scrambling['min'] = grouped_df.min()\n",
    "scrambling['max'] = grouped_df.max()\n",
    "scrambling['mean'] = grouped_df.mean()\n",
    "scrambling"
   ]
  },
  {
   "cell_type": "code",
   "execution_count": 40,
   "metadata": {},
   "outputs": [
    {
     "data": {
      "text/plain": [
       "<matplotlib.axes._subplots.AxesSubplot at 0x7fcdd43a5e90>"
      ]
     },
     "execution_count": 40,
     "metadata": {},
     "output_type": "execute_result"
    },
    {
     "data": {
      "image/png": "[encoded data removed]",
      "text/plain": [
       "<Figure size 432x288 with 1 Axes>"
      ]
     },
     "metadata": {
      "needs_background": "light"
     },
     "output_type": "display_data"
    }
   ],
   "source": [
    "scrambling.plot()"
   ]
  },
  {
   "cell_type": "markdown",
   "metadata": {},
   "source": [
    "## Sandsaves"
   ]
  },
  {
   "cell_type": "code",
   "execution_count": 41,
   "metadata": {},
   "outputs": [
    {
     "data": {
      "text/html": [
       "<div>\n",
       "<style scoped>\n",
       "    .dataframe tbody tr th:only-of-type {\n",
       "        vertical-align: middle;\n",
       "    }\n",
       "\n",
       "    .dataframe tbody tr th {\n",
       "        vertical-align: top;\n",
       "    }\n",
       "\n",
       "    .dataframe thead th {\n",
       "        text-align: right;\n",
       "    }\n",
       "</style>\n",
       "<table border=\"1\" class=\"dataframe\">\n",
       "  <thead>\n",
       "    <tr style=\"text-align: right;\">\n",
       "      <th></th>\n",
       "      <th>min</th>\n",
       "      <th>max</th>\n",
       "      <th>mean</th>\n",
       "    </tr>\n",
       "    <tr>\n",
       "      <th>year</th>\n",
       "      <th></th>\n",
       "      <th></th>\n",
       "      <th></th>\n",
       "    </tr>\n",
       "  </thead>\n",
       "  <tbody>\n",
       "    <tr>\n",
       "      <th>2003</th>\n",
       "      <td>0.00</td>\n",
       "      <td>100.00</td>\n",
       "      <td>50.802174</td>\n",
       "    </tr>\n",
       "    <tr>\n",
       "      <th>2004</th>\n",
       "      <td>0.00</td>\n",
       "      <td>100.00</td>\n",
       "      <td>37.393095</td>\n",
       "    </tr>\n",
       "    <tr>\n",
       "      <th>2005</th>\n",
       "      <td>0.00</td>\n",
       "      <td>100.00</td>\n",
       "      <td>48.951556</td>\n",
       "    </tr>\n",
       "    <tr>\n",
       "      <th>2006</th>\n",
       "      <td>0.00</td>\n",
       "      <td>100.00</td>\n",
       "      <td>49.803810</td>\n",
       "    </tr>\n",
       "    <tr>\n",
       "      <th>2008</th>\n",
       "      <td>0.00</td>\n",
       "      <td>100.00</td>\n",
       "      <td>47.028571</td>\n",
       "    </tr>\n",
       "    <tr>\n",
       "      <th>2009</th>\n",
       "      <td>0.00</td>\n",
       "      <td>100.00</td>\n",
       "      <td>53.471702</td>\n",
       "    </tr>\n",
       "    <tr>\n",
       "      <th>2010</th>\n",
       "      <td>0.00</td>\n",
       "      <td>100.00</td>\n",
       "      <td>51.752955</td>\n",
       "    </tr>\n",
       "    <tr>\n",
       "      <th>2011</th>\n",
       "      <td>0.00</td>\n",
       "      <td>100.00</td>\n",
       "      <td>44.714348</td>\n",
       "    </tr>\n",
       "    <tr>\n",
       "      <th>2012</th>\n",
       "      <td>0.00</td>\n",
       "      <td>100.00</td>\n",
       "      <td>50.744561</td>\n",
       "    </tr>\n",
       "    <tr>\n",
       "      <th>2013</th>\n",
       "      <td>0.00</td>\n",
       "      <td>85.71</td>\n",
       "      <td>41.343818</td>\n",
       "    </tr>\n",
       "    <tr>\n",
       "      <th>2014</th>\n",
       "      <td>0.00</td>\n",
       "      <td>100.00</td>\n",
       "      <td>42.721304</td>\n",
       "    </tr>\n",
       "    <tr>\n",
       "      <th>2015</th>\n",
       "      <td>16.67</td>\n",
       "      <td>100.00</td>\n",
       "      <td>49.011154</td>\n",
       "    </tr>\n",
       "    <tr>\n",
       "      <th>2016</th>\n",
       "      <td>0.00</td>\n",
       "      <td>100.00</td>\n",
       "      <td>44.994727</td>\n",
       "    </tr>\n",
       "    <tr>\n",
       "      <th>2017</th>\n",
       "      <td>0.00</td>\n",
       "      <td>100.00</td>\n",
       "      <td>47.655769</td>\n",
       "    </tr>\n",
       "    <tr>\n",
       "      <th>2018</th>\n",
       "      <td>0.00</td>\n",
       "      <td>100.00</td>\n",
       "      <td>52.486604</td>\n",
       "    </tr>\n",
       "    <tr>\n",
       "      <th>2019</th>\n",
       "      <td>0.00</td>\n",
       "      <td>100.00</td>\n",
       "      <td>50.154531</td>\n",
       "    </tr>\n",
       "  </tbody>\n",
       "</table>\n",
       "</div>"
      ],
      "text/plain": [
       "        min     max       mean\n",
       "year                          \n",
       "2003   0.00  100.00  50.802174\n",
       "2004   0.00  100.00  37.393095\n",
       "2005   0.00  100.00  48.951556\n",
       "2006   0.00  100.00  49.803810\n",
       "2008   0.00  100.00  47.028571\n",
       "2009   0.00  100.00  53.471702\n",
       "2010   0.00  100.00  51.752955\n",
       "2011   0.00  100.00  44.714348\n",
       "2012   0.00  100.00  50.744561\n",
       "2013   0.00   85.71  41.343818\n",
       "2014   0.00  100.00  42.721304\n",
       "2015  16.67  100.00  49.011154\n",
       "2016   0.00  100.00  44.994727\n",
       "2017   0.00  100.00  47.655769\n",
       "2018   0.00  100.00  52.486604\n",
       "2019   0.00  100.00  50.154531"
      ]
     },
     "execution_count": 41,
     "metadata": {},
     "output_type": "execute_result"
    }
   ],
   "source": [
    "grouped_df = df.groupby(\"year\")['sandsaves']\n",
    "sandsaves = pd.DataFrame(columns = ['min','max'])\n",
    "sandsaves['min'] = grouped_df.min()\n",
    "sandsaves['max'] = grouped_df.max()\n",
    "sandsaves['mean'] = grouped_df.mean()\n",
    "sandsaves"
   ]
  },
  {
   "cell_type": "code",
   "execution_count": 42,
   "metadata": {},
   "outputs": [
    {
     "data": {
      "text/plain": [
       "<matplotlib.axes._subplots.AxesSubplot at 0x7fcdd2e05f90>"
      ]
     },
     "execution_count": 42,
     "metadata": {},
     "output_type": "execute_result"
    },
    {
     "data": {
      "image/png": "[encoded data removed]",
      "text/plain": [
       "<Figure size 432x288 with 1 Axes>"
      ]
     },
     "metadata": {
      "needs_background": "light"
     },
     "output_type": "display_data"
    }
   ],
   "source": [
    "sandsaves.plot()"
   ]
  },
  {
   "cell_type": "code",
   "execution_count": 43,
   "metadata": {},
   "outputs": [
    {
     "data": {
      "text/plain": [
       "year\n",
       "2003    18\n",
       "2004    14\n",
       "2005    19\n",
       "2006    16\n",
       "2008    18\n",
       "2009    20\n",
       "2010    21\n",
       "2011    19\n",
       "2012    21\n",
       "2013    24\n",
       "2014    19\n",
       "2015    18\n",
       "2016    19\n",
       "2017    18\n",
       "2018    23\n",
       "2019    23\n",
       "Name: sandsaves, dtype: int64"
      ]
     },
     "execution_count": 43,
     "metadata": {},
     "output_type": "execute_result"
    }
   ],
   "source": [
    "df.groupby(\"year\")['sandsaves'].nunique()"
   ]
  },
  {
   "cell_type": "markdown",
   "metadata": {},
   "source": [
    "## Putting Average"
   ]
  },
  {
   "cell_type": "code",
   "execution_count": 44,
   "metadata": {},
   "outputs": [
    {
     "data": {
      "text/html": [
       "<div>\n",
       "<style scoped>\n",
       "    .dataframe tbody tr th:only-of-type {\n",
       "        vertical-align: middle;\n",
       "    }\n",
       "\n",
       "    .dataframe tbody tr th {\n",
       "        vertical-align: top;\n",
       "    }\n",
       "\n",
       "    .dataframe thead th {\n",
       "        text-align: right;\n",
       "    }\n",
       "</style>\n",
       "<table border=\"1\" class=\"dataframe\">\n",
       "  <thead>\n",
       "    <tr style=\"text-align: right;\">\n",
       "      <th></th>\n",
       "      <th>min</th>\n",
       "      <th>max</th>\n",
       "      <th>mean</th>\n",
       "    </tr>\n",
       "    <tr>\n",
       "      <th>year</th>\n",
       "      <th></th>\n",
       "      <th></th>\n",
       "      <th></th>\n",
       "    </tr>\n",
       "  </thead>\n",
       "  <tbody>\n",
       "    <tr>\n",
       "      <th>2003</th>\n",
       "      <td>1.625</td>\n",
       "      <td>2.048</td>\n",
       "      <td>1.825261</td>\n",
       "    </tr>\n",
       "    <tr>\n",
       "      <th>2004</th>\n",
       "      <td>1.682</td>\n",
       "      <td>2.024</td>\n",
       "      <td>1.817667</td>\n",
       "    </tr>\n",
       "    <tr>\n",
       "      <th>2005</th>\n",
       "      <td>1.627</td>\n",
       "      <td>2.029</td>\n",
       "      <td>1.842178</td>\n",
       "    </tr>\n",
       "    <tr>\n",
       "      <th>2006</th>\n",
       "      <td>1.723</td>\n",
       "      <td>1.964</td>\n",
       "      <td>1.832571</td>\n",
       "    </tr>\n",
       "    <tr>\n",
       "      <th>2008</th>\n",
       "      <td>1.644</td>\n",
       "      <td>2.000</td>\n",
       "      <td>1.823024</td>\n",
       "    </tr>\n",
       "    <tr>\n",
       "      <th>2009</th>\n",
       "      <td>1.600</td>\n",
       "      <td>1.907</td>\n",
       "      <td>1.794170</td>\n",
       "    </tr>\n",
       "    <tr>\n",
       "      <th>2010</th>\n",
       "      <td>1.653</td>\n",
       "      <td>1.952</td>\n",
       "      <td>1.823045</td>\n",
       "    </tr>\n",
       "    <tr>\n",
       "      <th>2011</th>\n",
       "      <td>1.561</td>\n",
       "      <td>1.951</td>\n",
       "      <td>1.782804</td>\n",
       "    </tr>\n",
       "    <tr>\n",
       "      <th>2012</th>\n",
       "      <td>1.647</td>\n",
       "      <td>1.943</td>\n",
       "      <td>1.811807</td>\n",
       "    </tr>\n",
       "    <tr>\n",
       "      <th>2013</th>\n",
       "      <td>1.583</td>\n",
       "      <td>1.974</td>\n",
       "      <td>1.799091</td>\n",
       "    </tr>\n",
       "    <tr>\n",
       "      <th>2014</th>\n",
       "      <td>1.667</td>\n",
       "      <td>2.025</td>\n",
       "      <td>1.821174</td>\n",
       "    </tr>\n",
       "    <tr>\n",
       "      <th>2015</th>\n",
       "      <td>1.593</td>\n",
       "      <td>2.022</td>\n",
       "      <td>1.790096</td>\n",
       "    </tr>\n",
       "    <tr>\n",
       "      <th>2016</th>\n",
       "      <td>1.651</td>\n",
       "      <td>2.043</td>\n",
       "      <td>1.869673</td>\n",
       "    </tr>\n",
       "    <tr>\n",
       "      <th>2017</th>\n",
       "      <td>1.632</td>\n",
       "      <td>2.000</td>\n",
       "      <td>1.831712</td>\n",
       "    </tr>\n",
       "    <tr>\n",
       "      <th>2018</th>\n",
       "      <td>1.563</td>\n",
       "      <td>1.961</td>\n",
       "      <td>1.800887</td>\n",
       "    </tr>\n",
       "    <tr>\n",
       "      <th>2019</th>\n",
       "      <td>1.622</td>\n",
       "      <td>2.020</td>\n",
       "      <td>1.786672</td>\n",
       "    </tr>\n",
       "  </tbody>\n",
       "</table>\n",
       "</div>"
      ],
      "text/plain": [
       "        min    max      mean\n",
       "year                        \n",
       "2003  1.625  2.048  1.825261\n",
       "2004  1.682  2.024  1.817667\n",
       "2005  1.627  2.029  1.842178\n",
       "2006  1.723  1.964  1.832571\n",
       "2008  1.644  2.000  1.823024\n",
       "2009  1.600  1.907  1.794170\n",
       "2010  1.653  1.952  1.823045\n",
       "2011  1.561  1.951  1.782804\n",
       "2012  1.647  1.943  1.811807\n",
       "2013  1.583  1.974  1.799091\n",
       "2014  1.667  2.025  1.821174\n",
       "2015  1.593  2.022  1.790096\n",
       "2016  1.651  2.043  1.869673\n",
       "2017  1.632  2.000  1.831712\n",
       "2018  1.563  1.961  1.800887\n",
       "2019  1.622  2.020  1.786672"
      ]
     },
     "execution_count": 44,
     "metadata": {},
     "output_type": "execute_result"
    }
   ],
   "source": [
    "grouped_df = df.groupby(\"year\")['putting_avg']\n",
    "putting_avg = pd.DataFrame(columns = ['min','max'])\n",
    "putting_avg['min'] = grouped_df.min()\n",
    "putting_avg['max'] = grouped_df.max()\n",
    "putting_avg['mean'] = grouped_df.mean()\n",
    "putting_avg"
   ]
  },
  {
   "cell_type": "code",
   "execution_count": 45,
   "metadata": {},
   "outputs": [
    {
     "data": {
      "text/plain": [
       "<matplotlib.axes._subplots.AxesSubplot at 0x7fcdd17bac90>"
      ]
     },
     "execution_count": 45,
     "metadata": {},
     "output_type": "execute_result"
    },
    {
     "data": {
      "image/png": "[encoded data removed]",
      "text/plain": [
       "<Figure size 432x288 with 1 Axes>"
      ]
     },
     "metadata": {
      "needs_background": "light"
     },
     "output_type": "display_data"
    }
   ],
   "source": [
    "putting_avg.plot()"
   ]
  },
  {
   "cell_type": "code",
   "execution_count": 46,
   "metadata": {},
   "outputs": [
    {
     "data": {
      "text/plain": [
       "1.9914374999999997"
      ]
     },
     "execution_count": 46,
     "metadata": {},
     "output_type": "execute_result"
    }
   ],
   "source": [
    "putting_avg['max'].mean()"
   ]
  },
  {
   "cell_type": "code",
   "execution_count": 47,
   "metadata": {},
   "outputs": [
    {
     "data": {
      "text/plain": [
       "1.6295625"
      ]
     },
     "execution_count": 47,
     "metadata": {},
     "output_type": "execute_result"
    }
   ],
   "source": [
    "putting_avg['min'].mean()"
   ]
  }
 ],
 "metadata": {
  "kernelspec": {
   "display_name": "Python 3",
   "language": "python",
   "name": "python3"
  },
  "language_info": {
   "codemirror_mode": {
    "name": "ipython",
    "version": 3
   },
   "file_extension": ".py",
   "mimetype": "text/x-python",
   "name": "python",
   "nbconvert_exporter": "python",
   "pygments_lexer": "ipython3",
   "version": "3.7.6"
  },
  "toc": {
   "base_numbering": 1,
   "nav_menu": {},
   "number_sections": true,
   "sideBar": true,
   "skip_h1_title": false,
   "title_cell": "Table of Contents",
   "title_sidebar": "Contents",
   "toc_cell": true,
   "toc_position": {},
   "toc_section_display": true,
   "toc_window_display": false
  }
 },
 "nbformat": 4,
 "nbformat_minor": 4
}
